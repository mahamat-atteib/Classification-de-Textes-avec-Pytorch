{
 "cells": [
  {
   "cell_type": "markdown",
   "metadata": {},
   "source": []
  },
  {
   "cell_type": "markdown",
   "metadata": {},
   "source": [
    "<center><img src=\"data:image/png;base64,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\" /></center>\n",
    "\n",
    "------------------------\n",
    "<br />\n",
    "\n",
    "<h1><center><strong><font color=\"chillipepper\"> BGDIA 704 : Machine Learning Avancé </font></strong></center></h1>\n",
    "<h3><center><font color=\"red\"><strong> Master BGD </strong></font></center></h3>\n",
    "<h3><center><font color=\"red\"><strong> Projet : Classification de textes avec Pytorch </strong></font></center></h3>\n",
    "\n",
    "<center>\n",
    "<h3> Etudiant : MAHAMAT ATTEÏB Adoum </h3>\n",
    "<br/>\n",
    "</center>\n",
    "\n",
    "<br />\n",
    "\n",
    "------------------------"
   ]
  },
  {
   "cell_type": "markdown",
   "metadata": {},
   "source": [
    "The goal of this lab are to:\n",
    "- Implement an 'handmade' model of text classification with word embeddings,\n",
    "- Learn how to use Pytorch for treating textual data, \n",
    "- Implementing neural classification models with Pytorch.\n",
    "\n",
    "Besides ```torch```, we will use ```gensim``` to obain word embeddings, and ```scikit-learn``` for simple classification models.  "
   ]
  },
  {
   "cell_type": "markdown",
   "metadata": {},
   "source": [
    "**Import des librairies**"
   ]
  },
  {
   "cell_type": "code",
   "execution_count": 1,
   "metadata": {},
   "outputs": [],
   "source": [
    "import os.path as op\n",
    "import re \n",
    "import numpy as np\n",
    "import matplotlib.pyplot as plt\n",
    "from pprint import pprint\n",
    "import warnings"
   ]
  },
  {
   "cell_type": "code",
   "execution_count": 2,
   "metadata": {},
   "outputs": [],
   "source": [
    "import string\n",
    "from nltk.corpus import stopwords"
   ]
  },
  {
   "cell_type": "markdown",
   "metadata": {},
   "source": [
    "<h3><font color=\"red\"><strong> I-Simple classifier on top of dense representations </strong></font></h3>"
   ]
  },
  {
   "cell_type": "markdown",
   "metadata": {},
   "source": [
    "<h3><font color=\"red\"><strong> I.1 Dataset </strong></font></h3>"
   ]
  },
  {
   "cell_type": "markdown",
   "metadata": {},
   "source": [
    "We're going to work with the **20NewsGroup** data. This dataset is available in ```scikit-learn```, you can find all relevant information in the [documentation](https://scikit-learn.org/0.19/datasets/twenty_newsgroups.html)."
   ]
  },
  {
   "cell_type": "code",
   "execution_count": 3,
   "metadata": {},
   "outputs": [],
   "source": [
    "from sklearn.datasets import fetch_20newsgroups"
   ]
  },
  {
   "cell_type": "code",
   "execution_count": 4,
   "metadata": {},
   "outputs": [],
   "source": [
    "# Import training data\n",
    "ng_train = fetch_20newsgroups(subset='train', remove=('headers', 'footers', 'quotes'))"
   ]
  },
  {
   "cell_type": "markdown",
   "metadata": {},
   "source": [
    "pprint (pretty-print) permet d'avoir un affichage esthétique."
   ]
  },
  {
   "cell_type": "code",
   "execution_count": 5,
   "metadata": {},
   "outputs": [],
   "source": [
    "# Let's look at what is in this object\n",
    "# pprint(dir(ng_train))"
   ]
  },
  {
   "cell_type": "code",
   "execution_count": 6,
   "metadata": {},
   "outputs": [
    {
     "name": "stdout",
     "output_type": "stream",
     "text": [
      "['alt.atheism',\n",
      " 'comp.graphics',\n",
      " 'comp.os.ms-windows.misc',\n",
      " 'comp.sys.ibm.pc.hardware',\n",
      " 'comp.sys.mac.hardware',\n",
      " 'comp.windows.x',\n",
      " 'misc.forsale',\n",
      " 'rec.autos',\n",
      " 'rec.motorcycles',\n",
      " 'rec.sport.baseball',\n",
      " 'rec.sport.hockey',\n",
      " 'sci.crypt',\n",
      " 'sci.electronics',\n",
      " 'sci.med',\n",
      " 'sci.space',\n",
      " 'soc.religion.christian',\n",
      " 'talk.politics.guns',\n",
      " 'talk.politics.mideast',\n",
      " 'talk.politics.misc',\n",
      " 'talk.religion.misc']\n"
     ]
    }
   ],
   "source": [
    "# Let's look at the categories\n",
    "\n",
    "pprint(ng_train.target_names)"
   ]
  },
  {
   "cell_type": "code",
   "execution_count": 7,
   "metadata": {},
   "outputs": [
    {
     "name": "stdout",
     "output_type": "stream",
     "text": [
      "dimension de ng_train : (11314,)\n",
      "dimension de target : (11314,)\n"
     ]
    }
   ],
   "source": [
    "# Dimension\n",
    "\n",
    "print(\"dimension de ng_train :\", ng_train.filenames.shape)\n",
    "print(\"dimension de target :\", ng_train.target.shape)"
   ]
  },
  {
   "cell_type": "code",
   "execution_count": 8,
   "metadata": {},
   "outputs": [
    {
     "name": "stdout",
     "output_type": "stream",
     "text": [
      "('I was wondering if anyone out there could enlighten me on this car I saw\\n'\n",
      " 'the other day. It was a 2-door sports car, looked to be from the late 60s/\\n'\n",
      " 'early 70s. It was called a Bricklin. The doors were really small. In '\n",
      " 'addition,\\n'\n",
      " 'the front bumper was separate from the rest of the body. This is \\n'\n",
      " 'all I know. If anyone can tellme a model name, engine specs, years\\n'\n",
      " 'of production, where this car is made, history, or whatever info you\\n'\n",
      " 'have on this funky looking car, please e-mail.')\n",
      "Target:  rec.autos\n"
     ]
    }
   ],
   "source": [
    "# Afficher du premier paragraphe et son target associé\n",
    "\n",
    "pprint(ng_train.data[0])\n",
    "print(\"Target: \", ng_train.target_names[ng_train.target[0]])"
   ]
  },
  {
   "cell_type": "code",
   "execution_count": null,
   "metadata": {
    "jupyter": {
     "source_hidden": true
    },
    "tags": []
   },
   "outputs": [
    {
     "name": "stderr",
     "output_type": "stream",
     "text": [
      "c:\\Users\\PC\\miniconda3\\envs\\bigdata\\Lib\\site-packages\\requests\\__init__.py:102: RequestsDependencyWarning: urllib3 (1.26.18) or chardet (5.2.0)/charset_normalizer (None) doesn't match a supported version!\n",
      "  warnings.warn(\"urllib3 ({}) or chardet ({})/charset_normalizer ({}) doesn't match a supported \"\n"
     ]
    }
   ],
   "source": [
    "import gensim.downloader as api\n",
    "import numpy as np\n",
    "\n",
    "# Load the GLoVe model\n",
    "loaded_glove_model = api.load(\"glove-wiki-gigaword-300\")\n",
    "\n",
    "# Example text (replace this with your actual texts)\n",
    "texts = ng_train.data\n",
    "\n",
    "# Function to convert text to embeddings\n",
    "def text_to_embedding(text, model):\n",
    "    words = text.split()  # Simple tokenization\n",
    "    word_embeddings = []\n",
    "    for word in words:\n",
    "        try:\n",
    "            word_embeddings.append(model[word])\n",
    "        except KeyError:\n",
    "            # Word not in vocabulary\n",
    "            continue\n",
    "    if word_embeddings:\n",
    "        return np.mean(word_embeddings, axis=0)\n",
    "    else:\n",
    "        # Return a zero vector if no words in the sentence are in the vocabulary\n",
    "        return np.zeros(model.vector_size)\n",
    "\n",
    "# Convert each text to an embedding\n",
    "embeddings = [text_to_embedding(text, loaded_glove_model) for text in texts]\n"
   ]
  },
  {
   "cell_type": "code",
   "execution_count": null,
   "metadata": {},
   "outputs": [],
   "source": [
    "pd.DataFrame(embeddings).shape"
   ]
  },
  {
   "cell_type": "code",
   "execution_count": 108,
   "metadata": {},
   "outputs": [],
   "source": [
    "data_embedding =pd.DataFrame(embeddings)"
   ]
  },
  {
   "cell_type": "code",
   "execution_count": 111,
   "metadata": {},
   "outputs": [],
   "source": [
    "data_embedding[\"Text\"] = ng_train.data\n",
    "data_embedding[\"Target\"]  = ng_train.target"
   ]
  },
  {
   "cell_type": "code",
   "execution_count": 112,
   "metadata": {},
   "outputs": [
    {
     "data": {
      "text/html": [
       "<div>\n",
       "<style scoped>\n",
       "    .dataframe tbody tr th:only-of-type {\n",
       "        vertical-align: middle;\n",
       "    }\n",
       "\n",
       "    .dataframe tbody tr th {\n",
       "        vertical-align: top;\n",
       "    }\n",
       "\n",
       "    .dataframe thead th {\n",
       "        text-align: right;\n",
       "    }\n",
       "</style>\n",
       "<table border=\"1\" class=\"dataframe\">\n",
       "  <thead>\n",
       "    <tr style=\"text-align: right;\">\n",
       "      <th></th>\n",
       "      <th>0</th>\n",
       "      <th>1</th>\n",
       "      <th>2</th>\n",
       "      <th>3</th>\n",
       "      <th>4</th>\n",
       "      <th>5</th>\n",
       "      <th>6</th>\n",
       "      <th>7</th>\n",
       "      <th>8</th>\n",
       "      <th>9</th>\n",
       "      <th>...</th>\n",
       "      <th>292</th>\n",
       "      <th>293</th>\n",
       "      <th>294</th>\n",
       "      <th>295</th>\n",
       "      <th>296</th>\n",
       "      <th>297</th>\n",
       "      <th>298</th>\n",
       "      <th>299</th>\n",
       "      <th>Text</th>\n",
       "      <th>Target</th>\n",
       "    </tr>\n",
       "  </thead>\n",
       "  <tbody>\n",
       "    <tr>\n",
       "      <th>0</th>\n",
       "      <td>-0.081641</td>\n",
       "      <td>0.106466</td>\n",
       "      <td>-0.089801</td>\n",
       "      <td>-0.187502</td>\n",
       "      <td>-0.035908</td>\n",
       "      <td>0.073886</td>\n",
       "      <td>-0.093287</td>\n",
       "      <td>0.046966</td>\n",
       "      <td>0.019900</td>\n",
       "      <td>-1.483447</td>\n",
       "      <td>...</td>\n",
       "      <td>0.023456</td>\n",
       "      <td>0.118861</td>\n",
       "      <td>0.117075</td>\n",
       "      <td>0.109925</td>\n",
       "      <td>0.014032</td>\n",
       "      <td>-0.141316</td>\n",
       "      <td>-0.049853</td>\n",
       "      <td>0.097149</td>\n",
       "      <td>I was wondering if anyone out there could enli...</td>\n",
       "      <td>7</td>\n",
       "    </tr>\n",
       "    <tr>\n",
       "      <th>1</th>\n",
       "      <td>-0.192722</td>\n",
       "      <td>0.090886</td>\n",
       "      <td>-0.037941</td>\n",
       "      <td>-0.182325</td>\n",
       "      <td>-0.073636</td>\n",
       "      <td>0.046888</td>\n",
       "      <td>-0.017921</td>\n",
       "      <td>0.057675</td>\n",
       "      <td>0.120606</td>\n",
       "      <td>-1.341660</td>\n",
       "      <td>...</td>\n",
       "      <td>-0.048705</td>\n",
       "      <td>-0.067266</td>\n",
       "      <td>0.108572</td>\n",
       "      <td>0.125852</td>\n",
       "      <td>-0.012514</td>\n",
       "      <td>-0.215201</td>\n",
       "      <td>-0.094108</td>\n",
       "      <td>-0.055174</td>\n",
       "      <td>A fair number of brave souls who upgraded thei...</td>\n",
       "      <td>4</td>\n",
       "    </tr>\n",
       "    <tr>\n",
       "      <th>2</th>\n",
       "      <td>-0.146749</td>\n",
       "      <td>0.137878</td>\n",
       "      <td>-0.063274</td>\n",
       "      <td>-0.132565</td>\n",
       "      <td>-0.026561</td>\n",
       "      <td>0.071376</td>\n",
       "      <td>-0.036450</td>\n",
       "      <td>0.021623</td>\n",
       "      <td>0.078519</td>\n",
       "      <td>-1.477805</td>\n",
       "      <td>...</td>\n",
       "      <td>0.003481</td>\n",
       "      <td>0.047962</td>\n",
       "      <td>0.128210</td>\n",
       "      <td>0.039242</td>\n",
       "      <td>0.018574</td>\n",
       "      <td>-0.184098</td>\n",
       "      <td>-0.059538</td>\n",
       "      <td>0.093241</td>\n",
       "      <td>well folks, my mac plus finally gave up the gh...</td>\n",
       "      <td>4</td>\n",
       "    </tr>\n",
       "    <tr>\n",
       "      <th>3</th>\n",
       "      <td>-0.256111</td>\n",
       "      <td>0.031221</td>\n",
       "      <td>-0.123513</td>\n",
       "      <td>-0.125411</td>\n",
       "      <td>0.019071</td>\n",
       "      <td>0.078238</td>\n",
       "      <td>0.029534</td>\n",
       "      <td>0.055957</td>\n",
       "      <td>0.169093</td>\n",
       "      <td>-1.955878</td>\n",
       "      <td>...</td>\n",
       "      <td>0.080499</td>\n",
       "      <td>0.018956</td>\n",
       "      <td>0.167398</td>\n",
       "      <td>-0.172218</td>\n",
       "      <td>-0.112693</td>\n",
       "      <td>-0.279659</td>\n",
       "      <td>-0.079480</td>\n",
       "      <td>0.048712</td>\n",
       "      <td>\\nDo you have Weitek's address/phone number?  ...</td>\n",
       "      <td>1</td>\n",
       "    </tr>\n",
       "    <tr>\n",
       "      <th>4</th>\n",
       "      <td>-0.146598</td>\n",
       "      <td>0.092058</td>\n",
       "      <td>-0.051261</td>\n",
       "      <td>-0.050381</td>\n",
       "      <td>-0.083395</td>\n",
       "      <td>0.080609</td>\n",
       "      <td>-0.039038</td>\n",
       "      <td>0.093979</td>\n",
       "      <td>0.109922</td>\n",
       "      <td>-1.618899</td>\n",
       "      <td>...</td>\n",
       "      <td>-0.018306</td>\n",
       "      <td>0.034797</td>\n",
       "      <td>0.060970</td>\n",
       "      <td>0.107941</td>\n",
       "      <td>0.002402</td>\n",
       "      <td>-0.273170</td>\n",
       "      <td>-0.018086</td>\n",
       "      <td>0.033943</td>\n",
       "      <td>From article &lt;C5owCB.n3p@world.std.com&gt;, by to...</td>\n",
       "      <td>14</td>\n",
       "    </tr>\n",
       "  </tbody>\n",
       "</table>\n",
       "<p>5 rows × 302 columns</p>\n",
       "</div>"
      ],
      "text/plain": [
       "          0         1         2         3         4         5         6  \\\n",
       "0 -0.081641  0.106466 -0.089801 -0.187502 -0.035908  0.073886 -0.093287   \n",
       "1 -0.192722  0.090886 -0.037941 -0.182325 -0.073636  0.046888 -0.017921   \n",
       "2 -0.146749  0.137878 -0.063274 -0.132565 -0.026561  0.071376 -0.036450   \n",
       "3 -0.256111  0.031221 -0.123513 -0.125411  0.019071  0.078238  0.029534   \n",
       "4 -0.146598  0.092058 -0.051261 -0.050381 -0.083395  0.080609 -0.039038   \n",
       "\n",
       "          7         8         9  ...       292       293       294       295  \\\n",
       "0  0.046966  0.019900 -1.483447  ...  0.023456  0.118861  0.117075  0.109925   \n",
       "1  0.057675  0.120606 -1.341660  ... -0.048705 -0.067266  0.108572  0.125852   \n",
       "2  0.021623  0.078519 -1.477805  ...  0.003481  0.047962  0.128210  0.039242   \n",
       "3  0.055957  0.169093 -1.955878  ...  0.080499  0.018956  0.167398 -0.172218   \n",
       "4  0.093979  0.109922 -1.618899  ... -0.018306  0.034797  0.060970  0.107941   \n",
       "\n",
       "        296       297       298       299  \\\n",
       "0  0.014032 -0.141316 -0.049853  0.097149   \n",
       "1 -0.012514 -0.215201 -0.094108 -0.055174   \n",
       "2  0.018574 -0.184098 -0.059538  0.093241   \n",
       "3 -0.112693 -0.279659 -0.079480  0.048712   \n",
       "4  0.002402 -0.273170 -0.018086  0.033943   \n",
       "\n",
       "                                                Text  Target  \n",
       "0  I was wondering if anyone out there could enli...       7  \n",
       "1  A fair number of brave souls who upgraded thei...       4  \n",
       "2  well folks, my mac plus finally gave up the gh...       4  \n",
       "3  \\nDo you have Weitek's address/phone number?  ...       1  \n",
       "4  From article <C5owCB.n3p@world.std.com>, by to...      14  \n",
       "\n",
       "[5 rows x 302 columns]"
      ]
     },
     "execution_count": 112,
     "metadata": {},
     "output_type": "execute_result"
    }
   ],
   "source": [
    "data_embedding.head()"
   ]
  },
  {
   "cell_type": "markdown",
   "metadata": {},
   "source": [
    "The dataset can be rather difficult as it is; especially, some categories are very close to each other. We can simplify the task by using the higher-level categorisation of the newsgroups, thanks to the following function:"
   ]
  },
  {
   "cell_type": "code",
   "execution_count": 9,
   "metadata": {},
   "outputs": [],
   "source": [
    "def aggregate_labels(label):\n",
    "    # comp\n",
    "    if label in [1,2,3,4,5]:\n",
    "        new_label = 0\n",
    "    # rec\n",
    "    if label in [7,8,9,10]:\n",
    "        new_label = 1\n",
    "    # sci\n",
    "    if label in [11,12,13,14]:\n",
    "        new_label = 2\n",
    "    # misc \n",
    "    if label in [6]:\n",
    "        new_label = 3\n",
    "    # pol\n",
    "    if label in [16,17,18]:\n",
    "        new_label = 4\n",
    "    # rel\n",
    "    if label in [0,15,19]:\n",
    "        new_label = 5\n",
    "    return new_label"
   ]
  },
  {
   "cell_type": "markdown",
   "metadata": {},
   "source": [
    "La fonction \"aggregate_labels\" a pour but de labelliser (d'attribuer un label) les .\n",
    "\n",
    "**comp (ordinateur) :** Si label est dans la liste **\\[1,2,3,4,5\\]**, cela signifie que l'étiquette originale appartient à une catégorie générale liée à l'informatique ou à la technologie. La fonction attribuer alors à new_labell a valeur 0.\n",
    "\n",
    "**rec (loisirs) :** Si label est dans la liste **\\[7,8,9,10\\]**, l'étiquette originale new_label est mis à 1.\n",
    "\n",
    "**sci (science) :** Si label est dans la liste **\\[11,12,13,14\\]**, new_label devient 2.\n",
    "\n",
    "**divers :** Si label est **\\[6\\]**, new_label est défini à 3.\n",
    "\n",
    "**pol (politique) :** Si label est dans la liste **\\[16,17,18\\]**, l'étiquette est associée new_labell a valeur 4.\n",
    "\n",
    "**rel (religion) :** Si label est dans la liste **\\[0,15,19\\]**, cela signifie que new_labelest alors mis à 5."
   ]
  },
  {
   "cell_type": "markdown",
   "metadata": {},
   "source": [
    "We will first need to apply some pre-processing:\n",
    "- The data is represented as a string: ```'I love this movie'```\n",
    "- We want to obtain a list of **tokens**, which are instances of words: ```['I','love','this','movie']```\n",
    "\n",
    "This is called **tokenization**. We will import an existing tokenizer and use it on each document to obtain a list of words. Careful, the data is not always clean and the messages are sometimes short: hence, applying tokenization can sometimes return an empty list of words. **Be careful to remove documents that are empty !**\n",
    "<div class='alert alert-block alert-info'>\n",
    "            Code:</div>"
   ]
  },
  {
   "cell_type": "markdown",
   "metadata": {},
   "source": [
    "### Tokenization"
   ]
  },
  {
   "cell_type": "markdown",
   "metadata": {},
   "source": [
    "La tokenization consiste à transformer une phrase en vecteurs de mots."
   ]
  },
  {
   "cell_type": "code",
   "execution_count": 10,
   "metadata": {},
   "outputs": [
    {
     "name": "stderr",
     "output_type": "stream",
     "text": [
      "[nltk_data] Downloading package punkt to\n",
      "[nltk_data]     C:\\Users\\PC\\AppData\\Roaming\\nltk_data...\n",
      "[nltk_data]   Package punkt is already up-to-date!\n"
     ]
    }
   ],
   "source": [
    "import nltk\n",
    "# A little data necessary for the first time you use word_tokenize - uncomment\n",
    "nltk.download('punkt')\n",
    "from nltk import word_tokenize"
   ]
  },
  {
   "cell_type": "markdown",
   "metadata": {},
   "source": [
    "\"punkt\" est un tokenizer pré-entraîné utilisé par NLTK pour diviser un texte en une liste de phrases, en utilisant un algorithme non supervisé qui apprend les abréviations et les initiales dans le texte."
   ]
  },
  {
   "cell_type": "code",
   "execution_count": 11,
   "metadata": {},
   "outputs": [
    {
     "data": {
      "text/plain": [
       "'I was wondering if anyone out there could enlighten me on this car I saw\\nthe other day. It was a 2-door sports car, looked to be from the late 60s/\\nearly 70s. It was called a Bricklin. The doors were really small. In addition,\\nthe front bumper was separate from the rest of the body. This is \\nall I know. If anyone can tellme a model name, engine specs, years\\nof production, where this car is made, history, or whatever info you\\nhave on this funky looking car, please e-mail.'"
      ]
     },
     "execution_count": 11,
     "metadata": {},
     "output_type": "execute_result"
    }
   ],
   "source": [
    "# Affichage du premier paragraphe \"ng_train.data[0]\"\n",
    "\n",
    "ng_train.data[0]"
   ]
  },
  {
   "cell_type": "code",
   "execution_count": null,
   "metadata": {},
   "outputs": [],
   "source": []
  },
  {
   "cell_type": "code",
   "execution_count": 12,
   "metadata": {},
   "outputs": [],
   "source": [
    "# Et si on veut afficher le premier paragraphe (ng_train.data[0]) sous forme tokenizé \n",
    "\n",
    "#pprint(word_tokenize(ng_train.data[0]))"
   ]
  },
  {
   "cell_type": "markdown",
   "metadata": {},
   "source": [
    "**Tokenisation de \"ng_train.data\" et labellisation de \"ng_train_labels\"**"
   ]
  },
  {
   "cell_type": "code",
   "execution_count": 12,
   "metadata": {
    "tags": []
   },
   "outputs": [],
   "source": [
    "ng_train_text = []\n",
    "ng_train_labels = []\n",
    "\n",
    "for text, label in zip(ng_train.data, ng_train.target):\n",
    "    tokens = word_tokenize(text)\n",
    "    if tokens:  # Vérifie si la liste des tokens n'est pas vide\n",
    "        ng_train_text.append(tokens)\n",
    "        ng_train_labels.append(aggregate_labels(label))"
   ]
  },
  {
   "cell_type": "markdown",
   "metadata": {},
   "source": [
    "On parcourt les données et les étiquettes simultanément avec **zip(ng_train.data, ng_train.target)**. \n",
    "Pour chaque texte, on tokenise d'abord le texte avec **word_tokenize(text)**. Ensuite, on vérifie si la liste des tokens résultante n'est pas vide ( if tokens:). Si elle n'est pas vide, on ajoute les tokens à **ng_train_text** et l'étiquette agrégée correspondante à **ng_train_labels**."
   ]
  },
  {
   "cell_type": "code",
   "execution_count": 13,
   "metadata": {},
   "outputs": [
    {
     "name": "stdout",
     "output_type": "stream",
     "text": [
      "['I', 'was', 'wondering', 'if', 'anyone', 'out', 'there', 'could', 'enlighten', 'me', 'on', 'this', 'car', 'I', 'saw', 'the', 'other', 'day', '.', 'It', 'was', 'a', '2-door', 'sports', 'car', ',', 'looked', 'to', 'be', 'from', 'the', 'late', '60s/', 'early', '70s', '.', 'It', 'was', 'called', 'a', 'Bricklin', '.', 'The', 'doors', 'were', 'really', 'small', '.', 'In', 'addition', ',', 'the', 'front', 'bumper', 'was', 'separate', 'from', 'the', 'rest', 'of', 'the', 'body', '.', 'This', 'is', 'all', 'I', 'know', '.', 'If', 'anyone', 'can', 'tellme', 'a', 'model', 'name', ',', 'engine', 'specs', ',', 'years', 'of', 'production', ',', 'where', 'this', 'car', 'is', 'made', ',', 'history', ',', 'or', 'whatever', 'info', 'you', 'have', 'on', 'this', 'funky', 'looking', 'car', ',', 'please', 'e-mail', '.']\n"
     ]
    }
   ],
   "source": [
    "# Affichage de \"ng_train_text[0]\" tokenizé\n",
    "\n",
    "print(ng_train_text[0])"
   ]
  },
  {
   "cell_type": "markdown",
   "metadata": {},
   "source": [
    "**Tokenisation de \"ng_test.data\" et labellisation de \"ng_test_labels\"**"
   ]
  },
  {
   "cell_type": "code",
   "execution_count": 14,
   "metadata": {},
   "outputs": [],
   "source": [
    "ng_test = fetch_20newsgroups( subset='test', remove=('headers', 'footers', 'quotes') )"
   ]
  },
  {
   "cell_type": "code",
   "execution_count": 15,
   "metadata": {},
   "outputs": [],
   "source": [
    "ng_test_text = []\n",
    "ng_test_labels = []\n",
    "\n",
    "for text, label in zip(ng_test.data, ng_test.target):\n",
    "    tokens = word_tokenize(text)\n",
    "    if tokens:                         # Vérifie si la liste des tokens n'est pas vide\n",
    "        ng_test_text.append(tokens)    # Remplir les tokens dans \"ng_test_text\"\n",
    "        ng_test_labels.append(aggregate_labels(label))"
   ]
  },
  {
   "cell_type": "markdown",
   "metadata": {},
   "source": [
    "<h3><font color=\"red\"><strong> I.2 Get a vocabulary. </strong></font></h3>"
   ]
  },
  {
   "cell_type": "markdown",
   "metadata": {},
   "source": [
    "Now that the data is tokenized, the first step we will follow is to pick a **common vocabulary** that we will use for every model we create in this lab. \n",
    "\n",
    "It would be too costly to ask our model to represent every word. We will have to be able to control its size, either by indicating a **maximum number of words**. **We add, at the end, an \"unknown\" word that will replace all the words that do not appear in our \"limited\" vocabulary**.\n",
    "\n",
    "<div class='alert alert-block alert-info'>\n",
    "            Code:</div>"
   ]
  },
  {
   "cell_type": "markdown",
   "metadata": {},
   "source": [
    "**Fonction \"vocabulary\" complétée**"
   ]
  },
  {
   "cell_type": "markdown",
   "metadata": {},
   "source": [
    "Cette fonction permet de compter l'occurence de mots à partir du corpus déjà tokenizé."
   ]
  },
  {
   "cell_type": "code",
   "execution_count": 35,
   "metadata": {},
   "outputs": [],
   "source": [
    "def vocabulary(corpus, voc_threshold=None):\n",
    "    \"\"\"\n",
    "    Function using word counts to build a vocabulary - can be improved with a second parameter for\n",
    "    setting a frequency threshold\n",
    "    Params:\n",
    "        corpus (list of list of tokens): corpus of sentences already tokenized\n",
    "        voc_threshold (int): maximum size of the vocabulary. Use \"0\" to indicate no limit\n",
    "    Returns:\n",
    "        vocabulary (dictionary): keys: list of distinct words across the corpus\n",
    "                                  values: indexes corresponding to each word sorted by frequency\n",
    "        vocabulary_word_counts (dictionary): keys: list of distinct words across the corpus\n",
    "                                             values: corresponding counts of words in the corpus\n",
    "    \"\"\"\n",
    "\n",
    "    # Bloc 1: Comptage des mots dans le corpus\n",
    "    word_counts = {} # dictionnaire \n",
    "    for sent in corpus:\n",
    "        for word in sent:\n",
    "            if word not in word_counts:\n",
    "                word_counts[word] = 0\n",
    "            word_counts[word] += 1\n",
    "\n",
    "    # Bloc 2: Tri des mots par nombre d'occurrences\n",
    "    sorted_words = sorted(word_counts.items(), key=lambda x: x[1], reverse=True)\n",
    "\n",
    "    if voc_threshold is not None and voc_threshold > 0:\n",
    "        # Bloc 3: Création du vocabulaire avec seuil de fréquence\n",
    "        top_words = [word for word, _ in sorted_words[:voc_threshold]]\n",
    "        vocabulary = {word: idx for idx, word in enumerate(top_words)}\n",
    "        unk_count = sum(count for _, count in sorted_words[voc_threshold:])\n",
    "        word_counts = {word: count for word, count in sorted_words[:voc_threshold]}\n",
    "        word_counts['UNK'] = unk_count\n",
    "    else:\n",
    "        # Bloc 4: Création du vocabulaire sans seuil de fréquence\n",
    "        vocabulary = {word: idx for idx, (word, _) in enumerate(sorted_words)}\n",
    "        word_counts = {word: count for word, count in sorted_words}\n",
    "        if 'UNK' not in vocabulary:\n",
    "            unk_count = sum(count for word, count in sorted_words if word not in vocabulary)\n",
    "            word_counts['UNK'] = unk_count\n",
    "\n",
    "    # Bloc 5: Gestion du mot inconnu 'UNK' dans le vocabulaire\n",
    "    if 'UNK' not in vocabulary:\n",
    "        vocabulary['UNK'] = len(vocabulary)\n",
    "        word_counts['UNK'] = 0\n",
    "\n",
    "    return vocabulary, word_counts"
   ]
  },
  {
   "cell_type": "markdown",
   "metadata": {},
   "source": [
    "**On teste \"vocabulary\" sur un corpus avant de l'utiliser sur notre jeu de données**"
   ]
  },
  {
   "cell_type": "code",
   "execution_count": 36,
   "metadata": {},
   "outputs": [
    {
     "name": "stdout",
     "output_type": "stream",
     "text": [
      "{'down': 0, 'the': 1, 'I': 2, 'UNK': 3}\n",
      "{'down': 6, 'the': 6, 'I': 5, 'UNK': 0}\n",
      "\n",
      "\n",
      "On réutilise la fonction \"vocabulary\" sans mettre de seuil voc_threshold\n",
      "{'down': 0, 'the': 1, 'I': 2, 'walked': 3, 'boulevard': 4, 'avenue': 5, 'walk': 6, 'ran': 7, 'city': 8, 'UNK': 9}\n",
      "{'down': 6, 'the': 6, 'I': 5, 'walked': 2, 'boulevard': 2, 'avenue': 2, 'walk': 2, 'ran': 1, 'city': 1, 'UNK': 0}\n"
     ]
    }
   ],
   "source": [
    "# Example for testing :\n",
    "corpus = ['I walked down down the boulevard',\n",
    "          'I walked down the avenue',\n",
    "          'I ran down the boulevard',\n",
    "          'I walk down the city',\n",
    "          'I walk down the the avenue']\n",
    "corpus = [word_tokenize(sent) for sent in corpus]\n",
    "\n",
    "voc, counts = vocabulary(corpus, voc_threshold = 3)\n",
    "print(voc)\n",
    "print(counts)\n",
    "\n",
    "print(\"\\n\")\n",
    "print(\"On réutilise la fonction \\\"vocabulary\\\" sans mettre de seuil voc_threshold\")\n",
    "voc, counts = vocabulary(corpus)\n",
    "print(voc)\n",
    "print(counts)"
   ]
  },
  {
   "cell_type": "markdown",
   "metadata": {},
   "source": [
    "On obtient les résultats attendus, cela nous garantit le bon fonctionnement de notre fonction."
   ]
  },
  {
   "cell_type": "markdown",
   "metadata": {},
   "source": [
    "**On applique la fonction \"vocabulary\" sur ng_train_text**"
   ]
  },
  {
   "cell_type": "markdown",
   "metadata": {},
   "source": [
    "On fixe le seuil \"voc_threshold\" à 100. On recupère les 100 premiers mots avec leur occurence."
   ]
  },
  {
   "cell_type": "code",
   "execution_count": 37,
   "metadata": {},
   "outputs": [
    {
     "name": "stdout",
     "output_type": "stream",
     "text": [
      "Vocabulary with threshold 100:\n",
      "{',': 0, '.': 1, 'the': 2, '>': 3, \"'AX\": 4, '--': 5, 'to': 6, 'of': 7, '(': 8, 'a': 9, 'and': 10, ')': 11, 'I': 12, '*': 13, 'is': 14, 'in': 15, ':': 16, 'that': 17, '?': 18, \"''\": 19, 'it': 20, '@': 21, 'for': 22, '``': 23, '$': 24, 'you': 25, ';': 26, '!': 27, '<': 28, '%': 29, 'on': 30, 'be': 31, '#': 32, 'have': 33, ']': 34, 'are': 35, \"'\": 36, 'with': 37, '`': 38, 'not': 39, '&': 40, '[': 41, 'this': 42, \"'s\": 43, 'The': 44, 'as': 45, '-': 46, 'or': 47, \"n't\": 48, 'was': 49, 'do': 50, 'by': 51, 'from': 52, 'but': 53, 'they': 54, 'at': 55, 'can': 56, 'an': 57, 'will': 58, 'would': 59, '1': 60, 'if': 61, 'about': 62, 'all': 63, 'one': 64, 'X': 65, 'my': 66, 'has': 67, 'there': 68, 'your': 69, 'we': 70, 'M': 71, 'what': 72, 'he': 73, '2': 74, 'which': 75, 'MAX': 76, 'me': 77, 'It': 78, '...': 79, 'some': 80, 'who': 81, 'out': 82, 'any': 83, 'were': 84, 'so': 85, 'more': 86, 'people': 87, 'their': 88, 'like': 89, 'If': 90, 'other': 91, 'no': 92, 'A': 93, '0': 94, 'up': 95, 'had': 96, 'them': 97, 'know': 98, 'get': 99, 'UNK': 100}\n",
      "{',': 110587, '.': 102430, 'the': 94647, '>': 83268, \"'AX\": 61725, '--': 61024, 'to': 51801, 'of': 45912, '(': 40646, 'a': 40487, 'and': 40042, ')': 39894, 'I': 33786, '*': 31017, 'is': 29742, 'in': 28417, ':': 28417, 'that': 26724, '?': 22924, \"''\": 22738, 'it': 19060, '@': 18974, 'for': 18500, '``': 18401, '$': 16300, 'you': 15977, ';': 15818, '!': 15652, '<': 15425, '%': 15055, 'on': 13585, 'be': 13581, '#': 13473, 'have': 12915, ']': 12906, 'are': 12869, \"'\": 12482, 'with': 12309, '`': 12195, 'not': 12144, '&': 11703, '[': 11632, 'this': 11179, \"'s\": 10928, 'The': 10864, 'as': 10152, '-': 10037, 'or': 9864, \"n't\": 9820, 'was': 9635, 'do': 8579, 'by': 7758, 'from': 7684, 'but': 7632, 'they': 7593, 'at': 7156, 'can': 6919, 'an': 6915, 'will': 6440, 'would': 6338, '1': 5849, 'if': 5770, 'about': 5607, 'all': 5563, 'one': 5509, 'X': 5412, 'my': 5291, 'has': 5277, 'there': 5055, 'your': 4949, 'we': 4804, 'M': 4584, 'what': 4574, 'he': 4532, '2': 4517, 'which': 4464, 'MAX': 4448, 'me': 4425, 'It': 4336, '...': 4291, 'some': 4291, 'who': 4204, 'out': 4193, 'any': 4111, 'were': 4095, 'so': 4072, 'more': 3898, 'people': 3872, 'their': 3841, 'like': 3742, 'If': 3705, 'other': 3704, 'no': 3669, 'A': 3635, '0': 3577, 'up': 3515, 'had': 3513, 'them': 3490, 'know': 3447, 'get': 3425, 'UNK': 0}\n"
     ]
    }
   ],
   "source": [
    "# Testing the function with the given corpus and thresholds\n",
    "\n",
    "voc, counts = vocabulary(ng_train_text, voc_threshold=100)\n",
    "print(\"Vocabulary with threshold 100:\")\n",
    "print(voc)\n",
    "print(counts)"
   ]
  },
  {
   "cell_type": "code",
   "execution_count": 38,
   "metadata": {},
   "outputs": [
    {
     "name": "stderr",
     "output_type": "stream",
     "text": [
      "IOPub data rate exceeded.\n",
      "The Jupyter server will temporarily stop sending output\n",
      "to the client in order to avoid crashing it.\n",
      "To change this limit, set the config variable\n",
      "`--ServerApp.iopub_data_rate_limit`.\n",
      "\n",
      "Current values:\n",
      "ServerApp.iopub_data_rate_limit=1000000.0 (bytes/sec)\n",
      "ServerApp.rate_limit_window=3.0 (secs)\n",
      "\n"
     ]
    }
   ],
   "source": [
    "# Le limite d'affichage de Jupyter est atteint et le résultat ne s'affiche pas !\n",
    "\n",
    "voc, counts = vocabulary(ng_train_text)\n",
    "print(\"\\nFull Vocabulary:\")\n",
    "print(voc)\n",
    "print(counts)"
   ]
  },
  {
   "cell_type": "markdown",
   "metadata": {},
   "source": [
    "**Représentation Graphique : Loi de Zipf**"
   ]
  },
  {
   "cell_type": "markdown",
   "metadata": {},
   "source": [
    "La loi de Zips est avant tout une loi empirique. Zips a constaté que la fréquence d’utilisation d’un mot dans un texte était inversement proportionnelle à son rang. La loi de Zips s’intéresse à la répartition statistique des fréquences d’apparition des différents mots dans un langage."
   ]
  },
  {
   "cell_type": "markdown",
   "metadata": {},
   "source": [
    "We would like to get an idea of what's in these texts. So we'll get the vocabulary (in full) and represent the frequencies of the words, in order (be careful, you'll have to use a logarithmic scale): we should find back **Zipf's law**. This will give us an idea of the size of the vocabulary we will be able to choose: it's a matter of making a compromise between the necessary resources (size of the objects in memory) and the amount of information we can get from them (rare words can bring a lot of information, but it's difficult to learn good representations of them, because they are rare!).  \n",
    "\n",
    "<div class='alert alert-block alert-warning'>\n",
    "            Question:</div>\n",
    "            \n",
    "Word2vec's implementation cuts the vocabulary size by using **only words with at least 5 occurences**, by default. What vocabulary size would it give here ? Does it seem like a good compromise, looking at the graph ? "
   ]
  },
  {
   "cell_type": "code",
   "execution_count": null,
   "metadata": {},
   "outputs": [],
   "source": []
  },
  {
   "cell_type": "code",
   "execution_count": 43,
   "metadata": {
    "scrolled": true
   },
   "outputs": [
    {
     "data": {
      "image/png": "[encoded data removed]",
      "text/plain": [
       "<Figure size 2000x500 with 1 Axes>"
      ]
     },
     "metadata": {},
     "output_type": "display_data"
    },
    {
     "name": "stdout",
     "output_type": "stream",
     "text": [
      "Vocabulary size: 161705\n",
      "Part of the corpus by taking the \"x\" most frequent words:\n",
      "5000 : 0.85\n",
      "10000 : 0.89\n",
      "15000 : 0.91\n",
      "20000 : 0.93\n",
      "25000 : 0.94\n",
      "30000 : 0.94\n",
      "35000 : 0.95\n",
      "40000 : 0.95\n",
      "45000 : 0.96\n",
      "50000 : 0.96\n",
      "55000 : 0.96\n",
      "60000 : 0.97\n",
      "65000 : 0.97\n",
      "70000 : 0.97\n",
      "75000 : 0.97\n",
      "80000 : 0.97\n",
      "85000 : 0.97\n",
      "90000 : 0.98\n",
      "95000 : 0.98\n",
      "100000 : 0.98\n",
      "105000 : 0.98\n",
      "110000 : 0.98\n",
      "115000 : 0.98\n",
      "120000 : 0.99\n",
      "125000 : 0.99\n",
      "130000 : 0.99\n",
      "135000 : 0.99\n",
      "140000 : 0.99\n",
      "145000 : 0.99\n",
      "150000 : 1.00\n",
      "155000 : 1.00\n",
      "160000 : 1.00\n"
     ]
    }
   ],
   "source": [
    "# We would like to display the curve of word frequencies given their rank (index) in the vocabulary\n",
    "\n",
    "vocab, word_counts = vocabulary(ng_train_text)                # on appelle la fonction \"vocabulary\"\n",
    "rank_counts = {w:[vocab[w], word_counts[w]] for w in vocab}\n",
    "rank_counts_array = np.array(list(rank_counts.values()))\n",
    "\n",
    "# We can for example use the function plt.scatter(ng_train_text)\n",
    "plt.figure(figsize=(20,5))\n",
    "plt.title('Word counts versus rank')\n",
    "plt.yscale('log')\n",
    "plt.ylim(0.1, 1e6)\n",
    "plt.scatter(rank_counts_array[:,0], rank_counts_array[:,1])\n",
    "plt.show()\n",
    "\n",
    "# We would like to know how much of the data is represented by the 'k' most frequent words\n",
    "print('Vocabulary size: %i' % len(vocab))\n",
    "print('Part of the corpus by taking the \"x\" most frequent words:')\n",
    "for i in range(5000, len(vocab), 5000):\n",
    "    print('%i : %.2f' % (i, np.sum(rank_counts_array[:i, 1]) / np.sum(rank_counts_array[:,1]) ))"
   ]
  },
  {
   "cell_type": "code",
   "execution_count": null,
   "metadata": {},
   "outputs": [],
   "source": []
  },
  {
   "cell_type": "markdown",
   "metadata": {
    "tags": []
   },
   "source": [
    "Before creating the final vocabulary to be used, put aside some training data for a **validation set** ! \n",
    "\n",
    "<div class='alert alert-block alert-info'>\n",
    "            Code:</div>"
   ]
  },
  {
   "cell_type": "code",
   "execution_count": 44,
   "metadata": {},
   "outputs": [],
   "source": [
    "# subdivision du jeu de données en train, test\n",
    "\n",
    "from sklearn.model_selection import train_test_split\n",
    "train_texts_splt, val_texts, train_labels_splt, val_labels = train_test_split(ng_train_text, ng_train_labels, test_size=.2)"
   ]
  },
  {
   "cell_type": "code",
   "execution_count": 45,
   "metadata": {},
   "outputs": [],
   "source": [
    "# Get the vocabulary from 'train_texts_splt'"
   ]
  },
  {
   "cell_type": "code",
   "execution_count": 46,
   "metadata": {},
   "outputs": [
    {
     "name": "stdout",
     "output_type": "stream",
     "text": [
      "2456380\n"
     ]
    }
   ],
   "source": [
    "ex = 0\n",
    "for sent in train_texts_splt:\n",
    "    ex += len(sent)\n",
    "print(ex)"
   ]
  },
  {
   "cell_type": "code",
   "execution_count": 47,
   "metadata": {},
   "outputs": [],
   "source": [
    "# Get the vocabulary from 'train_texts_splt'\n",
    "\n",
    "vocab_train_texts_splt, word_counts_train_texts_splt = vocabulary(train_texts_splt)"
   ]
  },
  {
   "cell_type": "code",
   "execution_count": 48,
   "metadata": {},
   "outputs": [
    {
     "data": {
      "text/plain": [
       "133087"
      ]
     },
     "execution_count": 48,
     "metadata": {},
     "output_type": "execute_result"
    }
   ],
   "source": [
    "len(word_counts_train_texts_splt)"
   ]
  },
  {
   "cell_type": "markdown",
   "metadata": {},
   "source": [
    "<h3><font color=\"red\"><strong> I.3 Getting a representation: commonly used algorithms with gensim </strong></font></h3>"
   ]
  },
  {
   "cell_type": "markdown",
   "metadata": {},
   "source": [
    "The idea here is to define a set of representations $({w_{i}})_{i=1}^{V}$, of predefined dimension $d$ (here, we will work with $d = 300$), for all the words $i$ of the vocabulary $V$ - then **train** these representations to match what we want."
   ]
  },
  {
   "cell_type": "markdown",
   "metadata": {},
   "source": [
    "#### Glove\n",
    "\n",
    "The objective defined by Glove ([Pennington et al. (2014)](http://www.aclweb.org/anthology/D/D14/D14-1162.pdf)) is to learn from the vectors $w_{i}$ and $w_{k}$ so that their scalar product corresponds to the logarithm of their **Pointwise Mutual Information**: \n",
    "\n",
    "\n",
    "$$ w_{i}^\\top w_{k} = (PMI(w_{i}, w_{k}))$$\n",
    "\n",
    "\n",
    "In the article, this objective is carefully justified by a reasoning about the operations one wants to perform with these vectors and the properties they should have - in particular, symmetry between rows and columns (see the article for more details).  \n",
    "The final goal obtained is the following, where $M$ is the co-occurrence matrix:\n",
    "\n",
    "\n",
    "$$\\sum_{i, j=1}^{|V|} f\\left(M_{ij}\\right)\n",
    "  \\left(w_i^\\top w_j + b_i + b_j - \\log M_{ij}\\right)^2$$\n",
    "  \n",
    " \n",
    "Here, $f$ is a *scaling* function that reduces the importance of the most frequent co-occurrence counts: \n",
    "\n",
    "\n",
    "$$f(x) \n",
    "\\begin{cases}\n",
    "(x/x_{\\max})^{\\alpha} & \\textrm{if } x < x_{\\max} \\\\\n",
    "1 & \\textrm{otherwise}\n",
    "\\end{cases}$$\n",
    "\n",
    "\n",
    "Usually, we choose $\\alpha=0.75$ and $x_{\\max} = 100$, although these parameters may need to be changed depending on the data. The following code uses the ```gensim``` API to retrieve pre-trained representations (word embeddings take space - a long loading time is expected)."
   ]
  },
  {
   "cell_type": "code",
   "execution_count": 49,
   "metadata": {},
   "outputs": [],
   "source": [
    "import gensim.downloader as api\n",
    "loaded_glove_model = api.load(\"glove-wiki-gigaword-300\")"
   ]
  },
  {
   "cell_type": "markdown",
   "metadata": {},
   "source": [
    "Le modèle \"glove-wiki-gigaword-300\" fournit des embeddings de mots riches en information."
   ]
  },
  {
   "cell_type": "markdown",
   "metadata": {},
   "source": [
    "**glove** fait référence à la méthode d'apprentissage du modèle (GloVe).\\\n",
    "**wiki** suggère que le corpus utilisé pour entraîner le modèle comprend des données provenant de Wikipedia.\\\n",
    "**gigaword** peut faire référence à la combinaison de Wikipedia avec le corpus Gigaword, qui est un autre grand ensemble de données de texte.\\\n",
    "**300** indique la dimensionnalité de chaque vecteur de mot. Chaque mot est représenté par un vecteur à 300 dimensions."
   ]
  },
  {
   "cell_type": "markdown",
   "metadata": {},
   "source": [
    "We can extract the embedding matrix this way, and check its size:"
   ]
  },
  {
   "cell_type": "code",
   "execution_count": 50,
   "metadata": {},
   "outputs": [
    {
     "name": "stdout",
     "output_type": "stream",
     "text": [
      "(400000, 300)\n"
     ]
    }
   ],
   "source": [
    "loaded_glove_embeddings = loaded_glove_model.vectors\n",
    "print(loaded_glove_embeddings.shape)"
   ]
  },
  {
   "cell_type": "code",
   "execution_count": 107,
   "metadata": {},
   "outputs": [],
   "source": [
    "# On appelle la fonction \"vocabulary\" sur \"ng_train_text\", on fixe le seuil à 10000.\n",
    "\n",
    "vocab_cut, word_counts_cut = vocabulary(ng_train_text, voc_threshold=10000)"
   ]
  },
  {
   "cell_type": "code",
   "execution_count": 72,
   "metadata": {},
   "outputs": [
    {
     "data": {
      "text/plain": [
       "11014"
      ]
     },
     "execution_count": 72,
     "metadata": {},
     "output_type": "execute_result"
    }
   ],
   "source": [
    "len(ng_train_text)"
   ]
  },
  {
   "cell_type": "markdown",
   "metadata": {},
   "source": [
    "We can see that there are $400,000$ words represented, and that the embeddings are of size $300$. We define a function that returns, from the loaded model, the vocabulary and the embedding matrix according to the structures we used before. We add, here again, an unknown word \"UNK\" in case there are words in our data that are not part of the $400,000$ words represented here. "
   ]
  },
  {
   "cell_type": "code",
   "execution_count": 52,
   "metadata": {},
   "outputs": [],
   "source": [
    "def get_glove_voc_and_embeddings(glove_model):\n",
    "    voc = {word : index for word, index in enumerate(glove_model.index_to_key)}\n",
    "    voc['UNK'] = len(voc)\n",
    "    embeddings = glove_model.vectors\n",
    "    return voc, embeddings"
   ]
  },
  {
   "cell_type": "markdown",
   "metadata": {},
   "source": [
    "La fonction **get_glove_voc_and_embeddings** ci-dessus permet de créer un dictionnaire de vocabulaire \"voc\" et extrait les vecteurs d'embeddings \"embeddings\" du modèle GloVe."
   ]
  },
  {
   "cell_type": "code",
   "execution_count": 53,
   "metadata": {},
   "outputs": [],
   "source": [
    "# On applique la fonction \"get_glove_voc_and_embeddings\" à loaded_glove_model\n",
    "\n",
    "loaded_glove_voc, loaded_glove_embeddings = get_glove_voc_and_embeddings(loaded_glove_model)"
   ]
  },
  {
   "cell_type": "markdown",
   "metadata": {},
   "source": [
    "To be able to merge these $400.000$ words with those that are in our vocabulary, we can create a specific function that will extract the representations of the words that are in our vocabulary and return a matrix of the appropriate size:"
   ]
  },
  {
   "cell_type": "code",
   "execution_count": 58,
   "metadata": {},
   "outputs": [],
   "source": [
    "def get_glove_adapted_embeddings(glove_model, input_voc):\n",
    "    keys = {i: glove_model.key_to_index.get(w, None) for w, i in input_voc.items()}\n",
    "    index_dict = {i: key for i, key in keys.items() if key is not None}\n",
    "    embeddings = np.zeros((len(input_voc),glove_model.vectors.shape[1]))\n",
    "    for i, ind in index_dict.items():\n",
    "        embeddings[i] = glove_model.vectors[ind]\n",
    "    return embeddings"
   ]
  },
  {
   "cell_type": "markdown",
   "metadata": {
    "tags": []
   },
   "source": [
    "This function takes as input the model loaded using the Gensim API, as well as a vocabulary we created ourselves, and returns the embedding matrix from the loaded model, for the words in our vocabulary and in the right order."
   ]
  },
  {
   "cell_type": "code",
   "execution_count": 73,
   "metadata": {},
   "outputs": [],
   "source": [
    "# On appelle la fonction \"get_glove_adapted_embeddings\" à loaded_glove_model\n",
    "\n",
    "GloveEmbeddings = get_glove_adapted_embeddings(loaded_glove_model, vocab_cut)"
   ]
  },
  {
   "cell_type": "code",
   "execution_count": 74,
   "metadata": {},
   "outputs": [
    {
     "data": {
      "text/html": [
       "<div>\n",
       "<style scoped>\n",
       "    .dataframe tbody tr th:only-of-type {\n",
       "        vertical-align: middle;\n",
       "    }\n",
       "\n",
       "    .dataframe tbody tr th {\n",
       "        vertical-align: top;\n",
       "    }\n",
       "\n",
       "    .dataframe thead th {\n",
       "        text-align: right;\n",
       "    }\n",
       "</style>\n",
       "<table border=\"1\" class=\"dataframe\">\n",
       "  <thead>\n",
       "    <tr style=\"text-align: right;\">\n",
       "      <th></th>\n",
       "      <th>0</th>\n",
       "      <th>1</th>\n",
       "      <th>2</th>\n",
       "      <th>3</th>\n",
       "      <th>4</th>\n",
       "      <th>5</th>\n",
       "      <th>6</th>\n",
       "      <th>7</th>\n",
       "      <th>8</th>\n",
       "      <th>9</th>\n",
       "      <th>...</th>\n",
       "      <th>290</th>\n",
       "      <th>291</th>\n",
       "      <th>292</th>\n",
       "      <th>293</th>\n",
       "      <th>294</th>\n",
       "      <th>295</th>\n",
       "      <th>296</th>\n",
       "      <th>297</th>\n",
       "      <th>298</th>\n",
       "      <th>299</th>\n",
       "    </tr>\n",
       "  </thead>\n",
       "  <tbody>\n",
       "    <tr>\n",
       "      <th>0</th>\n",
       "      <td>-0.25539</td>\n",
       "      <td>-0.25723</td>\n",
       "      <td>0.131690</td>\n",
       "      <td>-0.042688</td>\n",
       "      <td>0.218170</td>\n",
       "      <td>-0.022702</td>\n",
       "      <td>-0.17854</td>\n",
       "      <td>0.10756</td>\n",
       "      <td>0.058936</td>\n",
       "      <td>-1.38540</td>\n",
       "      <td>...</td>\n",
       "      <td>0.075968</td>\n",
       "      <td>-0.014359</td>\n",
       "      <td>-0.073794</td>\n",
       "      <td>0.22176</td>\n",
       "      <td>0.146520</td>\n",
       "      <td>0.56686</td>\n",
       "      <td>0.053307</td>\n",
       "      <td>-0.232900</td>\n",
       "      <td>-0.122260</td>\n",
       "      <td>0.354990</td>\n",
       "    </tr>\n",
       "    <tr>\n",
       "      <th>1</th>\n",
       "      <td>-0.12559</td>\n",
       "      <td>0.01363</td>\n",
       "      <td>0.103060</td>\n",
       "      <td>-0.101230</td>\n",
       "      <td>0.098128</td>\n",
       "      <td>0.136270</td>\n",
       "      <td>-0.10721</td>\n",
       "      <td>0.23697</td>\n",
       "      <td>0.328700</td>\n",
       "      <td>-1.67850</td>\n",
       "      <td>...</td>\n",
       "      <td>0.060148</td>\n",
       "      <td>-0.156190</td>\n",
       "      <td>-0.119490</td>\n",
       "      <td>0.23445</td>\n",
       "      <td>0.081367</td>\n",
       "      <td>0.24618</td>\n",
       "      <td>-0.152420</td>\n",
       "      <td>-0.342240</td>\n",
       "      <td>-0.022394</td>\n",
       "      <td>0.136840</td>\n",
       "    </tr>\n",
       "    <tr>\n",
       "      <th>2</th>\n",
       "      <td>0.04656</td>\n",
       "      <td>0.21318</td>\n",
       "      <td>-0.007436</td>\n",
       "      <td>-0.458540</td>\n",
       "      <td>-0.035639</td>\n",
       "      <td>0.236430</td>\n",
       "      <td>-0.28836</td>\n",
       "      <td>0.21521</td>\n",
       "      <td>-0.134860</td>\n",
       "      <td>-1.64130</td>\n",
       "      <td>...</td>\n",
       "      <td>-0.013064</td>\n",
       "      <td>-0.296860</td>\n",
       "      <td>-0.079913</td>\n",
       "      <td>0.19500</td>\n",
       "      <td>0.031549</td>\n",
       "      <td>0.28506</td>\n",
       "      <td>-0.087461</td>\n",
       "      <td>0.009061</td>\n",
       "      <td>-0.209890</td>\n",
       "      <td>0.053913</td>\n",
       "    </tr>\n",
       "    <tr>\n",
       "      <th>3</th>\n",
       "      <td>-0.16601</td>\n",
       "      <td>0.14081</td>\n",
       "      <td>0.466030</td>\n",
       "      <td>-0.229500</td>\n",
       "      <td>-0.148430</td>\n",
       "      <td>0.061826</td>\n",
       "      <td>0.20089</td>\n",
       "      <td>0.44946</td>\n",
       "      <td>-0.519720</td>\n",
       "      <td>-0.18642</td>\n",
       "      <td>...</td>\n",
       "      <td>-0.352650</td>\n",
       "      <td>0.258350</td>\n",
       "      <td>-0.129580</td>\n",
       "      <td>-0.75444</td>\n",
       "      <td>0.593840</td>\n",
       "      <td>-0.80205</td>\n",
       "      <td>0.485060</td>\n",
       "      <td>-0.355610</td>\n",
       "      <td>0.741740</td>\n",
       "      <td>0.413750</td>\n",
       "    </tr>\n",
       "    <tr>\n",
       "      <th>4</th>\n",
       "      <td>0.00000</td>\n",
       "      <td>0.00000</td>\n",
       "      <td>0.000000</td>\n",
       "      <td>0.000000</td>\n",
       "      <td>0.000000</td>\n",
       "      <td>0.000000</td>\n",
       "      <td>0.00000</td>\n",
       "      <td>0.00000</td>\n",
       "      <td>0.000000</td>\n",
       "      <td>0.00000</td>\n",
       "      <td>...</td>\n",
       "      <td>0.000000</td>\n",
       "      <td>0.000000</td>\n",
       "      <td>0.000000</td>\n",
       "      <td>0.00000</td>\n",
       "      <td>0.000000</td>\n",
       "      <td>0.00000</td>\n",
       "      <td>0.000000</td>\n",
       "      <td>0.000000</td>\n",
       "      <td>0.000000</td>\n",
       "      <td>0.000000</td>\n",
       "    </tr>\n",
       "    <tr>\n",
       "      <th>...</th>\n",
       "      <td>...</td>\n",
       "      <td>...</td>\n",
       "      <td>...</td>\n",
       "      <td>...</td>\n",
       "      <td>...</td>\n",
       "      <td>...</td>\n",
       "      <td>...</td>\n",
       "      <td>...</td>\n",
       "      <td>...</td>\n",
       "      <td>...</td>\n",
       "      <td>...</td>\n",
       "      <td>...</td>\n",
       "      <td>...</td>\n",
       "      <td>...</td>\n",
       "      <td>...</td>\n",
       "      <td>...</td>\n",
       "      <td>...</td>\n",
       "      <td>...</td>\n",
       "      <td>...</td>\n",
       "      <td>...</td>\n",
       "      <td>...</td>\n",
       "    </tr>\n",
       "    <tr>\n",
       "      <th>9996</th>\n",
       "      <td>0.62630</td>\n",
       "      <td>0.13567</td>\n",
       "      <td>-0.036460</td>\n",
       "      <td>-0.081177</td>\n",
       "      <td>-0.578290</td>\n",
       "      <td>-0.177270</td>\n",
       "      <td>0.44029</td>\n",
       "      <td>-0.32265</td>\n",
       "      <td>-0.131850</td>\n",
       "      <td>0.24091</td>\n",
       "      <td>...</td>\n",
       "      <td>-0.352450</td>\n",
       "      <td>-0.171610</td>\n",
       "      <td>0.242460</td>\n",
       "      <td>0.12794</td>\n",
       "      <td>0.058874</td>\n",
       "      <td>-0.37571</td>\n",
       "      <td>-0.250500</td>\n",
       "      <td>0.012180</td>\n",
       "      <td>0.270340</td>\n",
       "      <td>0.324650</td>\n",
       "    </tr>\n",
       "    <tr>\n",
       "      <th>9997</th>\n",
       "      <td>0.00000</td>\n",
       "      <td>0.00000</td>\n",
       "      <td>0.000000</td>\n",
       "      <td>0.000000</td>\n",
       "      <td>0.000000</td>\n",
       "      <td>0.000000</td>\n",
       "      <td>0.00000</td>\n",
       "      <td>0.00000</td>\n",
       "      <td>0.000000</td>\n",
       "      <td>0.00000</td>\n",
       "      <td>...</td>\n",
       "      <td>0.000000</td>\n",
       "      <td>0.000000</td>\n",
       "      <td>0.000000</td>\n",
       "      <td>0.00000</td>\n",
       "      <td>0.000000</td>\n",
       "      <td>0.00000</td>\n",
       "      <td>0.000000</td>\n",
       "      <td>0.000000</td>\n",
       "      <td>0.000000</td>\n",
       "      <td>0.000000</td>\n",
       "    </tr>\n",
       "    <tr>\n",
       "      <th>9998</th>\n",
       "      <td>-0.48212</td>\n",
       "      <td>0.49075</td>\n",
       "      <td>0.133760</td>\n",
       "      <td>0.076078</td>\n",
       "      <td>-0.335190</td>\n",
       "      <td>0.129170</td>\n",
       "      <td>0.51312</td>\n",
       "      <td>0.89305</td>\n",
       "      <td>-0.164490</td>\n",
       "      <td>-1.21310</td>\n",
       "      <td>...</td>\n",
       "      <td>0.179090</td>\n",
       "      <td>0.008573</td>\n",
       "      <td>0.111520</td>\n",
       "      <td>0.22014</td>\n",
       "      <td>-0.429150</td>\n",
       "      <td>0.19934</td>\n",
       "      <td>-0.045642</td>\n",
       "      <td>-0.518850</td>\n",
       "      <td>0.147580</td>\n",
       "      <td>-0.273970</td>\n",
       "    </tr>\n",
       "    <tr>\n",
       "      <th>9999</th>\n",
       "      <td>0.58086</td>\n",
       "      <td>0.19342</td>\n",
       "      <td>-0.513220</td>\n",
       "      <td>-0.147170</td>\n",
       "      <td>-0.098889</td>\n",
       "      <td>-0.331690</td>\n",
       "      <td>-0.54375</td>\n",
       "      <td>0.40245</td>\n",
       "      <td>0.458020</td>\n",
       "      <td>-0.64774</td>\n",
       "      <td>...</td>\n",
       "      <td>0.168150</td>\n",
       "      <td>-0.036620</td>\n",
       "      <td>0.495870</td>\n",
       "      <td>0.32929</td>\n",
       "      <td>-0.054655</td>\n",
       "      <td>-0.39300</td>\n",
       "      <td>0.315590</td>\n",
       "      <td>0.103340</td>\n",
       "      <td>-0.209980</td>\n",
       "      <td>0.377010</td>\n",
       "    </tr>\n",
       "    <tr>\n",
       "      <th>10000</th>\n",
       "      <td>0.00000</td>\n",
       "      <td>0.00000</td>\n",
       "      <td>0.000000</td>\n",
       "      <td>0.000000</td>\n",
       "      <td>0.000000</td>\n",
       "      <td>0.000000</td>\n",
       "      <td>0.00000</td>\n",
       "      <td>0.00000</td>\n",
       "      <td>0.000000</td>\n",
       "      <td>0.00000</td>\n",
       "      <td>...</td>\n",
       "      <td>0.000000</td>\n",
       "      <td>0.000000</td>\n",
       "      <td>0.000000</td>\n",
       "      <td>0.00000</td>\n",
       "      <td>0.000000</td>\n",
       "      <td>0.00000</td>\n",
       "      <td>0.000000</td>\n",
       "      <td>0.000000</td>\n",
       "      <td>0.000000</td>\n",
       "      <td>0.000000</td>\n",
       "    </tr>\n",
       "  </tbody>\n",
       "</table>\n",
       "<p>10001 rows × 300 columns</p>\n",
       "</div>"
      ],
      "text/plain": [
       "           0        1         2         3         4         5        6    \\\n",
       "0     -0.25539 -0.25723  0.131690 -0.042688  0.218170 -0.022702 -0.17854   \n",
       "1     -0.12559  0.01363  0.103060 -0.101230  0.098128  0.136270 -0.10721   \n",
       "2      0.04656  0.21318 -0.007436 -0.458540 -0.035639  0.236430 -0.28836   \n",
       "3     -0.16601  0.14081  0.466030 -0.229500 -0.148430  0.061826  0.20089   \n",
       "4      0.00000  0.00000  0.000000  0.000000  0.000000  0.000000  0.00000   \n",
       "...        ...      ...       ...       ...       ...       ...      ...   \n",
       "9996   0.62630  0.13567 -0.036460 -0.081177 -0.578290 -0.177270  0.44029   \n",
       "9997   0.00000  0.00000  0.000000  0.000000  0.000000  0.000000  0.00000   \n",
       "9998  -0.48212  0.49075  0.133760  0.076078 -0.335190  0.129170  0.51312   \n",
       "9999   0.58086  0.19342 -0.513220 -0.147170 -0.098889 -0.331690 -0.54375   \n",
       "10000  0.00000  0.00000  0.000000  0.000000  0.000000  0.000000  0.00000   \n",
       "\n",
       "           7         8        9    ...       290       291       292      293  \\\n",
       "0      0.10756  0.058936 -1.38540  ...  0.075968 -0.014359 -0.073794  0.22176   \n",
       "1      0.23697  0.328700 -1.67850  ...  0.060148 -0.156190 -0.119490  0.23445   \n",
       "2      0.21521 -0.134860 -1.64130  ... -0.013064 -0.296860 -0.079913  0.19500   \n",
       "3      0.44946 -0.519720 -0.18642  ... -0.352650  0.258350 -0.129580 -0.75444   \n",
       "4      0.00000  0.000000  0.00000  ...  0.000000  0.000000  0.000000  0.00000   \n",
       "...        ...       ...      ...  ...       ...       ...       ...      ...   \n",
       "9996  -0.32265 -0.131850  0.24091  ... -0.352450 -0.171610  0.242460  0.12794   \n",
       "9997   0.00000  0.000000  0.00000  ...  0.000000  0.000000  0.000000  0.00000   \n",
       "9998   0.89305 -0.164490 -1.21310  ...  0.179090  0.008573  0.111520  0.22014   \n",
       "9999   0.40245  0.458020 -0.64774  ...  0.168150 -0.036620  0.495870  0.32929   \n",
       "10000  0.00000  0.000000  0.00000  ...  0.000000  0.000000  0.000000  0.00000   \n",
       "\n",
       "            294      295       296       297       298       299  \n",
       "0      0.146520  0.56686  0.053307 -0.232900 -0.122260  0.354990  \n",
       "1      0.081367  0.24618 -0.152420 -0.342240 -0.022394  0.136840  \n",
       "2      0.031549  0.28506 -0.087461  0.009061 -0.209890  0.053913  \n",
       "3      0.593840 -0.80205  0.485060 -0.355610  0.741740  0.413750  \n",
       "4      0.000000  0.00000  0.000000  0.000000  0.000000  0.000000  \n",
       "...         ...      ...       ...       ...       ...       ...  \n",
       "9996   0.058874 -0.37571 -0.250500  0.012180  0.270340  0.324650  \n",
       "9997   0.000000  0.00000  0.000000  0.000000  0.000000  0.000000  \n",
       "9998  -0.429150  0.19934 -0.045642 -0.518850  0.147580 -0.273970  \n",
       "9999  -0.054655 -0.39300  0.315590  0.103340 -0.209980  0.377010  \n",
       "10000  0.000000  0.00000  0.000000  0.000000  0.000000  0.000000  \n",
       "\n",
       "[10001 rows x 300 columns]"
      ]
     },
     "execution_count": 74,
     "metadata": {},
     "output_type": "execute_result"
    }
   ],
   "source": [
    "import pandas as pd\n",
    "pd.DataFrame(GloveEmbeddings)"
   ]
  },
  {
   "cell_type": "code",
   "execution_count": 62,
   "metadata": {},
   "outputs": [
    {
     "data": {
      "text/plain": [
       "11014"
      ]
     },
     "execution_count": 62,
     "metadata": {},
     "output_type": "execute_result"
    }
   ],
   "source": [
    "len(ng_train_text)"
   ]
  },
  {
   "cell_type": "markdown",
   "metadata": {},
   "source": [
    "**GloveEmbeddings** correspond à **la matrice d'embeddings** qu'on obtient après avoir adapté les embeddings GloVe à notre propre vocabulaire (vocab_cut). \n",
    "\n",
    "GloveEmbeddingsChaque ligne de cette matrice représente l'embedding d'un mot de votre vocabulaire. Si un mot de votre vocabulaire existe dans GloVe, il aura son vecteur GloVe correspondant dans cette matrice. Si le mot n'existe pas (ou si vous avez ajouté un token \"UNK\" pour les mots inconnus), vous pourriez avoir initialisé son vecteur d'une certaine manière (par exemple, avec des zéros, aléatoirement, ou en utilisant la moyenne de tous les vecteurs GloVe)."
   ]
  },
  {
   "cell_type": "code",
   "execution_count": null,
   "metadata": {},
   "outputs": [],
   "source": []
  },
  {
   "cell_type": "code",
   "execution_count": 75,
   "metadata": {},
   "outputs": [
    {
     "name": "stdout",
     "output_type": "stream",
     "text": [
      "(10001, 300)\n"
     ]
    }
   ],
   "source": [
    "print(GloveEmbeddings.shape)\n",
    "\n",
    "# on a choisi 100 mots, ça devient 101 avec le shape car UKN se rajoute."
   ]
  },
  {
   "cell_type": "markdown",
   "metadata": {},
   "source": [
    "#### Word2Vec\n",
    "\n",
    "\n",
    "The basic skip-gram model estimates the probabilities of a pair of words $(i, j)$ to appear together in data:\n",
    "\n",
    "$$P(j \\mid i) = \\frac{\\exp(w_{i} c_{j})}{\\sum_{j'\\in V}\\exp(w_{i} c_{j'})}$$\n",
    "\n",
    "\n",
    "where $w_{i}$ is the lign vector (of the word) $i$ and $c_{j}$ is the column vector (of a context word) $j$. The objective is to minimize the following quantity:\n",
    "\n",
    "\n",
    "$$ -\\sum_{i=1}^{m} \\sum_{k=1}^{|V|} \\textbf{1}\\{o_{i}=k\\} \\log \\frac{\\exp(w_{i} c_{k})}{\\sum_{j=1}^{|V|} \\exp(w_{i} c_{j})}$$\n",
    "\n",
    "\n",
    "where $V$ is the vocabulary.\n",
    "The inputs $w_{i}$ are the representations of the words, which are updated during training, and the output is an *one-hot* $o$ vector, which contains only one $1$ and $0$. For example, if `good` is the 47th word in the vocabulary, the output $o$ for an example or `good` is the word to predict will consist of $0$s everywhere except $1$ in the 47th position of the vector. `good` will be the word to predict when the input $w$ is a word in its context.\n",
    "We therefore obtain this output with standard softmax - we add a bias term $b$ .\n",
    "\n",
    "\n",
    "$$ o = \\textbf{softmax}(w_{a}C + b)$$\n",
    "\n",
    "\n",
    "If we use the set of representations for the whole vocabulary (the matrix $W$) as input, we get:\n",
    "\n",
    "\n",
    "$$ O = \\textbf{softmax}(WC + b)$$\n",
    "\n",
    "\n",
    "and so we come back to the central idea of all our methods: we seek to obtain word representations from co-occurrence counts. Here, we train the parameters contained in $W$ and $C$, two matrices representing the words in reduced dimension (300) so that their scalar product is as close as possible to the co-occurrences observed in the data, using a maximum likelihood objective.\n",
    "\n",
    "#### Skip-gram with negative sampling\n",
    "\n",
    "The training of the skip-gram model implies to calculate a sum on the whole vocabulary, because of the **softmax**. As soon as the size of the vocabulary increases, it becomes impossible to compute. In order to make the calculations faster, we change the objective and use the method of *negative sampling* (or, very close to it, the *noise contrastive estimation*).\n",
    "\n",
    "\n",
    "If we note $\\mathcal{D}$ the data set and we note $\\mathcal{D}'$ a set of pairs of words that are **not** in the data (and that in practice, we draw randomly), the objective is:\n",
    "\n",
    "\n",
    "$$\\sum_{i, j \\in \\mathcal{D}}-\\log\\sigma(w_{i}c_{j}) + \\sum_{i, j \\in \\mathcal{D}'}\\log\\sigma(w_{i}c_{j})$$\n",
    "\n",
    "\n",
    "where $\\sigma$ is the sigmoid activation function $\\frac{1}{1 + \\exp(-x)}$.\n",
    "A common practice is to generate pairs from $\\mathcal{D}'$ in proportion to the frequencies of the words in the training data (the so-called unigram distribution):\n",
    "\n",
    "\n",
    "$$P(w) = \\frac{\\textbf{T}(w)^{0.75}}{\\sum_{w'\\in V} \\textbf{T}(w')}$$\n",
    "\n",
    "\n",
    "Although different, this new objective function is a sufficient approximation of the previous one, and is based on the same principle. Much research has been done on this objective: for example, [Levy and Golberg 2014](http://papers.nips.cc/paper/5477-neural-word-embedding-as-implicit-matrix-factorization) shows that the objective calculates the PMI matrix shifted by a constant value. One can also see [Cotterell et al. 2017](https://aclanthology.coli.uni-saarland.de/papers/E17-2028/e17-2028) for an interpretation of the algorithm as a variant of PCA."
   ]
  },
  {
   "cell_type": "markdown",
   "metadata": {},
   "source": [
    "We will use the ```gensim``` library for its implementation of word2vec in python. We'll have to make a specific use of it, since we want to keep the same vocabulary as before: we'll first create the class, then get the vocabulary we generated above. "
   ]
  },
  {
   "cell_type": "code",
   "execution_count": 76,
   "metadata": {},
   "outputs": [],
   "source": [
    "from gensim.models import Word2Vec\n",
    "\n",
    "model = Word2Vec(vector_size=300,\n",
    "                 window=5,\n",
    "                 null_word=len(word_counts_cut),\n",
    "                 epochs=30)\n",
    "\n",
    "model.build_vocab_from_freq(word_counts_cut)\n",
    "\n",
    "# \"word_counts_cut\" a été remplacé par \"counts\""
   ]
  },
  {
   "cell_type": "markdown",
   "metadata": {},
   "source": [
    "Cela permet au modèle de se concentrer sur les mots les plus pertinents de votre corpus, en se basant sur leur fréquence."
   ]
  },
  {
   "cell_type": "markdown",
   "metadata": {},
   "source": [
    "The model takes as input a **list of list of words**: you need to tokenize the data beforehand. \n",
    "In this case, you also need to indicate to the model the number of examples it should train with.\n",
    "<div class='alert alert-block alert-info'>\n",
    "            Code:</div>"
   ]
  },
  {
   "cell_type": "markdown",
   "metadata": {},
   "source": [
    "Le modèle prend en entrée une liste de mots : vous devez au préalable tokeniser les données. Dans ce cas, vous devez également indiquer au modèle le nombre d'exemples avec lesquels il doit s'entraîner."
   ]
  },
  {
   "cell_type": "code",
   "execution_count": 77,
   "metadata": {},
   "outputs": [
    {
     "data": {
      "text/plain": [
       "(1681536, 1825890)"
      ]
     },
     "execution_count": 77,
     "metadata": {},
     "output_type": "execute_result"
    }
   ],
   "source": [
    "model.train(vocab_cut, total_examples=ex, epochs=30, report_delay=1)\n",
    "\n",
    "# total_examples : nombre total de phrase dans le corpus\n",
    "# total_examples peut être obtenu directement avec \"model.corpus_count\" après avoir construit le vocabulaire.\n",
    "# epochs : le nombre de fois que l'algorithme va parcourir l'ensemble du corpus"
   ]
  },
  {
   "cell_type": "code",
   "execution_count": 78,
   "metadata": {},
   "outputs": [
    {
     "name": "stdout",
     "output_type": "stream",
     "text": [
      "(10001, 300)\n"
     ]
    }
   ],
   "source": [
    "W2VEmbeddings = model.wv.vectors\n",
    "print(W2VEmbeddings.shape)"
   ]
  },
  {
   "cell_type": "markdown",
   "metadata": {},
   "source": [
    "<h3><font color=\"red\"><strong> I.4 Application to classification </strong></font></h3>"
   ]
  },
  {
   "cell_type": "markdown",
   "metadata": {},
   "source": [
    "We will now use these representations for classification.\n",
    "The basic model will be constructed in two steps:\n",
    "- A function to obtain vector representations of inputs, from their text, vocabulary, and vector representations of words. Such a function (to be completed below) will associate to each word of a review its embeddings, and create the representation for the whole sentence by summing these embeddings.\n",
    "- A classifier will take these representations as input and make a prediction. To achieve this, we can first use logistic regression ```LogisticRegression``` from ```scikit-learn``` \n",
    "\n",
    "<div class='alert alert-block alert-info'>\n",
    "            Code:</div>"
   ]
  },
  {
   "cell_type": "markdown",
   "metadata": {},
   "source": [
    "Cette fonction sentence_representations est conçue pour convertir des phrases en représentations vectorielles."
   ]
  },
  {
   "cell_type": "code",
   "execution_count": 79,
   "metadata": {},
   "outputs": [],
   "source": [
    "def sentence_representations(texts, vocabulary, embeddings, np_func=np.mean):\n",
    "    \"\"\"\n",
    "    Represent the sentences as a combination of the vector of its words.\n",
    "    Parameters\n",
    "    ----------\n",
    "    texts : a list of list of tokens\n",
    "    vocabulary : dict\n",
    "        From words to indexes of vector.\n",
    "    embeddings : Matrix containing word representations\n",
    "    np_func : function (default: np.mean)\n",
    "        A numpy matrix operation that can be applied columnwise,\n",
    "        like `np.mean`, `np.sum`, or `np.prod`.\n",
    "    Returns\n",
    "    -------\n",
    "    np.array, dimension `(len(texts), embeddings.shape[1])`\n",
    "    \"\"\"\n",
    "    representations = []\n",
    "    for sentence in texts:\n",
    "        # Récupérer les embeddings pour chaque mot dans la phrase\n",
    "        # Utiliser l'embedding pour 'UNK' si le mot n'est pas dans le vocabulaire\n",
    "        sentence_embeddings = [embeddings[vocabulary.get(word, vocabulary.get('UNK', 0))] for word in sentence]\n",
    "        # Appliquer np_func pour obtenir un seul vecteur pour la phrase\n",
    "        sentence_vector = np_func(sentence_embeddings, axis=0)\n",
    "        representations.append(sentence_vector)\n",
    "    return np.array(representations)"
   ]
  },
  {
   "cell_type": "code",
   "execution_count": 80,
   "metadata": {},
   "outputs": [
    {
     "name": "stdout",
     "output_type": "stream",
     "text": [
      "0.7294598275079437\n"
     ]
    }
   ],
   "source": [
    "from sklearn.linear_model import LogisticRegression\n",
    "from sklearn.model_selection import cross_val_score\n",
    "\n",
    "# Example with Glove Embeddings\n",
    "train_rep = sentence_representations(train_texts_splt, vocab_cut, GloveEmbeddings)\n",
    "val_rep = sentence_representations(val_texts, vocab_cut, GloveEmbeddings)\n",
    "clf = LogisticRegression(max_iter=1000).fit(train_rep, train_labels_splt)\n",
    "print(clf.score(val_rep, val_labels))"
   ]
  },
  {
   "cell_type": "code",
   "execution_count": 81,
   "metadata": {},
   "outputs": [
    {
     "name": "stdout",
     "output_type": "stream",
     "text": [
      "0.29550612800726284\n"
     ]
    }
   ],
   "source": [
    "# Example with Word2Vec Embeddings\n",
    "train_rep = sentence_representations(train_texts_splt, vocab_cut, W2VEmbeddings)\n",
    "val_rep = sentence_representations(val_texts, vocab_cut, W2VEmbeddings)\n",
    "clf = LogisticRegression(max_iter=1000).fit(train_rep, train_labels_splt)\n",
    "print(clf.score(val_rep, val_labels))"
   ]
  },
  {
   "cell_type": "markdown",
   "metadata": {},
   "source": [
    "La regression logistique réalisée avec \"Glove Embeddings\" donne de meilleur resultat que celui réalisé avec \"Word2vec Embeddings\"."
   ]
  },
  {
   "cell_type": "markdown",
   "metadata": {},
   "source": [
    "<div class='alert alert-block alert-warning'>\n",
    "            Question:</div>\n",
    "\n",
    "- Why can we expect that the results obtained with embeddings extracted from representations pre-trained with Gl0ve are much better than word2vec ? What would be a 'fair' way to compare Gl0ve with word2vec ?"
   ]
  },
  {
   "cell_type": "markdown",
   "metadata": {},
   "source": [
    "**Les résultats obtenus avec les embeddings GLoVe sont meilleurs  par rapport à ceux obtenus avec Word2Vec , cela peut s'expliquer principalement par le \n",
    "fait que GLoVe est entraîné sur un corpus plus vaste et diversifié (comme Wikipedia et Gigaword), offrant une meilleure couverture du vocabulaire\n",
    "et capturant les relations sémantiques plus finement.En outre GLoVe combine les avantages de la matrice de co-occurrence globale et de l'apprentissage local des embeddings (similaire à Word2Vec),\n",
    "ce qui peut mener à des embeddings qui généralisent mieux sur différentes tâches NLP,\n",
    "y compris la régression logistique pour la classification de textes.**\n",
    "\n",
    "\n",
    "\n",
    "**Une manière juste de comparer GLoVe avec Word2Vec serait d'utiliser le meme corpus ( exemple glove-wiki-gigaword-300) pour les deux modeles d'embedding. Assurer également que la taille et le contenu des corpus soient comparables pour les deux modèles, et les évaluer sur une tâche NLP identique, en employant des données, un prétraitement et des paramètres expérimentaux similaires.**"
   ]
  },
  {
   "cell_type": "markdown",
   "metadata": {},
   "source": [
    "<h2><font color=\"red\"><strong> II- Text classification with Pytorch </strong></font></h2>"
   ]
  },
  {
   "cell_type": "markdown",
   "metadata": {},
   "source": [
    "The goal of this second part of the lab is double: an introduction to using Pytorch for treating textual data, and implementing neural classification models that we can apply to the data - and then compare it to the models implemented previously."
   ]
  },
  {
   "cell_type": "code",
   "execution_count": 82,
   "metadata": {},
   "outputs": [],
   "source": [
    "import torch\n",
    "import torch.nn as nn"
   ]
  },
  {
   "cell_type": "markdown",
   "metadata": {},
   "source": [
    "<h3><font color=\"red\"><strong> II.1 A (very small) introduction to pytorch </strong></font></h3>"
   ]
  },
  {
   "cell_type": "markdown",
   "metadata": {},
   "source": [
    "Pytorch Tensors are very similar to Numpy arrays, with the added benefit of being usable on GPU. For a short tutorial on various methods to create tensors of particular types, see [this link](https://pytorch.org/tutorials/beginner/blitz/tensor_tutorial.html#sphx-glr-beginner-blitz-tensor-tutorial-py).\n",
    "The important things to note are that Tensors can be created empty, from lists, and it is very easy to convert a numpy array into a pytorch tensor, and inversely."
   ]
  },
  {
   "cell_type": "code",
   "execution_count": 83,
   "metadata": {},
   "outputs": [
    {
     "name": "stdout",
     "output_type": "stream",
     "text": [
      "tensor([0, 0, 0, 0, 0])\n",
      "tensor([5])\n"
     ]
    }
   ],
   "source": [
    "a = torch.LongTensor(5)    # une liste qui comporte \"0\" 5 fois\n",
    "b = torch.LongTensor([5])  # vecteur avec un seul élément 5 à l'intérieur\n",
    "\n",
    "print(a)\n",
    "print(b)"
   ]
  },
  {
   "cell_type": "code",
   "execution_count": 84,
   "metadata": {},
   "outputs": [
    {
     "name": "stdout",
     "output_type": "stream",
     "text": [
      "tensor([5.])\n"
     ]
    }
   ],
   "source": [
    "a = torch.FloatTensor([2])\n",
    "b = torch.FloatTensor([3])\n",
    "\n",
    "print(a + b)"
   ]
  },
  {
   "cell_type": "markdown",
   "metadata": {},
   "source": [
    "The main interest in us using Pytorch is the ```autograd``` package. ```torch.Tensor```objects have an attribute ```.requires_grad```; if set as True, it starts to track all operations on it. When you finish your computation, can call ```.backward()``` and all the gradients are computed automatically (and stored in the ```.grad``` attribute).\n",
    "\n",
    "One way to easily cut a tensor from the computational once it is not needed anymore is to use ```.detach()```.\n",
    "More info on automatic differentiation in pytorch on [this link](https://pytorch.org/tutorials/beginner/blitz/autograd_tutorial.html#sphx-glr-beginner-blitz-autograd-tutorial-py)."
   ]
  },
  {
   "cell_type": "code",
   "execution_count": 85,
   "metadata": {},
   "outputs": [
    {
     "name": "stdout",
     "output_type": "stream",
     "text": [
      "tensor(2.)\n",
      "tensor(1.)\n",
      "tensor(1.)\n"
     ]
    }
   ],
   "source": [
    "x = torch.tensor(1., requires_grad=True)\n",
    "w = torch.tensor(2., requires_grad=True)\n",
    "b = torch.tensor(3., requires_grad=True)\n",
    "\n",
    "# Build a computational graph.\n",
    "y = w * x + b    # y = 2 * x + 3\n",
    "\n",
    "# Compute gradients.\n",
    "y.backward()\n",
    "\n",
    "# On effectue une propagation arrière (  y.backward()  ) pour calculer les gradients de y par rapport à x, w, et b. \n",
    "# PyTorch stocke ces gradients dans les attributs .grad des variables concernées.\n",
    "\n",
    "# Print out the gradients.\n",
    "print(x.grad)    # x.grad = 2 \n",
    "print(w.grad)    # w.grad = 1 \n",
    "print(b.grad)    # b.grad = 1 "
   ]
  },
  {
   "cell_type": "code",
   "execution_count": 86,
   "metadata": {},
   "outputs": [
    {
     "name": "stdout",
     "output_type": "stream",
     "text": [
      "weight\n",
      "Parameter containing:\n",
      "tensor([[ 0.0093,  0.4467, -0.3771],\n",
      "        [ 0.2243, -0.4781,  0.5566]], requires_grad=True)\n",
      "bias\n",
      "Parameter containing:\n",
      "tensor([-0.2259,  0.1578], requires_grad=True)\n",
      "Initial loss:  1.2597914934158325\n",
      "dL/dw:  tensor([[ 0.7429,  0.2205, -0.5032],\n",
      "        [-0.0041, -0.7672,  0.4932]])\n",
      "dL/db:  tensor([-0.5481,  0.3327])\n"
     ]
    }
   ],
   "source": [
    "x = torch.randn(10, 3)\n",
    "y = torch.randn(10, 2)\n",
    "\n",
    "# Build a fully connected layer.\n",
    "linear = nn.Linear(3, 2)\n",
    "# On initialise un modèle linéaire (nn.Linear) avec des dimensions d'entrée et de sortie spécifiques\n",
    "\n",
    "for name, p in linear.named_parameters():\n",
    "    print(name)\n",
    "    print(p)\n",
    "\n",
    "# Build loss function - Mean Square Error\n",
    "criterion = nn.MSELoss()   # on définit une fonction de perte MSE\n",
    "\n",
    "# Forward pass.\n",
    "pred = linear(x)  # on fait les prédictions sur x\n",
    "\n",
    "# Compute loss.\n",
    "loss = criterion(pred, y)\n",
    "print('Initial loss: ', loss.item())\n",
    "\n",
    "# Backward pass.\n",
    "loss.backward()\n",
    "\n",
    "# Print out the gradients.\n",
    "print ('dL/dw: ', linear.weight.grad) \n",
    "print ('dL/db: ', linear.bias.grad)"
   ]
  },
  {
   "cell_type": "markdown",
   "metadata": {},
   "source": [
    "**Mise à jour manuelle des paramètres du modèle en utilisant la descente de gradient**"
   ]
  },
  {
   "cell_type": "code",
   "execution_count": 87,
   "metadata": {},
   "outputs": [
    {
     "name": "stdout",
     "output_type": "stream",
     "text": [
      "Loss after one update:  1.2390334606170654\n"
     ]
    }
   ],
   "source": [
    "# You can perform gradient descent manually, with an in-place update ...\n",
    "# en soustrayant un produit du taux d'apprentissage et du gradient du paramètre.\n",
    "\n",
    "linear.weight.data.sub_(0.01 * linear.weight.grad.data)\n",
    "linear.bias.data.sub_(0.01 * linear.bias.grad.data)\n",
    "\n",
    "# Print out the loss after 1-step gradient descent.\n",
    "pred = linear(x)\n",
    "loss = criterion(pred, y)\n",
    "print('Loss after one update: ', loss.item())"
   ]
  },
  {
   "cell_type": "markdown",
   "metadata": {},
   "source": [
    "**Utilisation d'un optimiseur pour simplifier la mise à jour des paramètres**"
   ]
  },
  {
   "cell_type": "code",
   "execution_count": 88,
   "metadata": {},
   "outputs": [
    {
     "name": "stdout",
     "output_type": "stream",
     "text": [
      "Loss after two updates:  1.219092845916748\n"
     ]
    }
   ],
   "source": [
    "# Use the optim package to define an Optimizer that will update the weights of the model.\n",
    "optimizer = torch.optim.SGD(linear.parameters(), lr=0.01)\n",
    "\n",
    "# By default, gradients are accumulated in buffers( i.e, not overwritten) whenever .backward()\n",
    "# is called. Before the backward pass, we need to use the optimizer object to zero all of the\n",
    "# gradients.\n",
    "optimizer.zero_grad()\n",
    "loss.backward()\n",
    "\n",
    "# Calling the step function on an Optimizer makes an update to its parameters\n",
    "optimizer.step()\n",
    "\n",
    "# Evaluation du modèle\n",
    "# Print out the loss after the second step of gradient descent.\n",
    "pred = linear(x)\n",
    "loss = criterion(pred, y)\n",
    "print('Loss after two updates: ', loss.item())"
   ]
  },
  {
   "cell_type": "markdown",
   "metadata": {},
   "source": [
    "<h3><font color=\"red\"><strong> II.2 Tools for data processing  </strong></font></h3>"
   ]
  },
  {
   "cell_type": "markdown",
   "metadata": {},
   "source": [
    "```torch.utils.data.Dataset``` is an abstract class representing a dataset. Your custom dataset should inherit ```Dataset``` and override the following methods:\n",
    "- ```__len__``` so that ```len(dataset)``` returns the size of the dataset.\n",
    "- ```__getitem__``` to support the indexing such that ```dataset[i]``` can be used to get the i-th sample\n",
    "\n",
    "Here is a toy example: "
   ]
  },
  {
   "cell_type": "markdown",
   "metadata": {},
   "source": [
    "**Données : textes (to_corpus) et les étiquettes (toy_categories)**"
   ]
  },
  {
   "cell_type": "code",
   "execution_count": 89,
   "metadata": {},
   "outputs": [],
   "source": [
    "toy_corpus = ['I walked down down the boulevard',\n",
    "              'I walked down the avenue',\n",
    "              'I ran down the boulevard',\n",
    "              'I walk down the city',\n",
    "              'I walk down the the avenue']\n",
    "\n",
    "toy_categories = [0, 0, 1, 0, 0]"
   ]
  },
  {
   "cell_type": "markdown",
   "metadata": {},
   "source": [
    "**Conception d'une classe : mettre en minuscule les mots du texte et supprimer les espaces**"
   ]
  },
  {
   "cell_type": "markdown",
   "metadata": {},
   "source": [
    "CustomDataset est une classe fille de la classe Dataset."
   ]
  },
  {
   "cell_type": "code",
   "execution_count": 90,
   "metadata": {},
   "outputs": [],
   "source": [
    "from torch.utils.data import Dataset, DataLoader\n",
    "\n",
    "class CustomDataset(Dataset):\n",
    "    # A pytorch dataset class for holding data for a text classification task.\n",
    "    # CONSTRUCTEUR : prend en entree data(les textes) et categories(les etiquettes)\n",
    "    def __init__(self, data, categories):\n",
    "        # Upon creating the Dataset object, store the data in an attribute\n",
    "        # Split the text data and labels from each other\n",
    "        self.X, self.Y = [], []\n",
    "        for x, y in zip(data, categories):\n",
    "            \n",
    "            # We will propably need to preprocess the data - have it done in a separate method\n",
    "            # We do it here because we might need corpus-wide info to do the preprocessing\n",
    "            \n",
    "            # For example, cutting all examples to the same length\n",
    "            self.X.append(self.preprocess(x))   # preprocess permet de faire le prétraitement \n",
    "            self.Y.append(y)\n",
    "    \n",
    "    # Methode de pretraitement : convertir le texte en minuscules (lower) et supprime les espaces superflus\n",
    "    # Method allowing you to preprocess data                      \n",
    "    def preprocess(self, text):\n",
    "        text_pp = text.lower().strip()\n",
    "        return text_pp\n",
    "    \n",
    "    # Methode : méthode spéciale qui permet à Python de savoir combien d'éléments sont présents dans le dataset\n",
    "    # Retourne la longueur de \"self.Y\".\n",
    "    # Overriding the method __len__ so that len(CustomDatasetName) returns the number of data samples                     \n",
    "    def __len__(self):\n",
    "        return len(self.Y)\n",
    "    \n",
    "    # Methode : retourne une paire (texte, étiquettes) pour un index donné.\n",
    "    # Overriding the method __getitem__ so that CustomDatasetName[i] returns the i-th sample of the dataset                      \n",
    "    def __getitem__(self, idx):\n",
    "           return self.X[idx], self.Y[idx]"
   ]
  },
  {
   "cell_type": "markdown",
   "metadata": {},
   "source": [
    "**On applique la classe \"CustomDataset\" au corpus \"toy_corpus\" : on obtient \"toy_dataset\"**"
   ]
  },
  {
   "cell_type": "markdown",
   "metadata": {},
   "source": [
    "CustomDataset permet d'écrire le texte en miniscule et pour chaque phrase, elle lui associe son étiquette."
   ]
  },
  {
   "cell_type": "code",
   "execution_count": 91,
   "metadata": {},
   "outputs": [],
   "source": [
    "toy_dataset = CustomDataset(toy_corpus, toy_categories)"
   ]
  },
  {
   "cell_type": "code",
   "execution_count": 92,
   "metadata": {},
   "outputs": [
    {
     "name": "stdout",
     "output_type": "stream",
     "text": [
      "Taille du corpus toy_dataset :  5\n",
      "\n",
      "\n",
      "('i walked down down the boulevard', 0)\n",
      "('i walked down the avenue', 0)\n",
      "('i ran down the boulevard', 1)\n",
      "('i walk down the city', 0)\n",
      "('i walk down the the avenue', 0)\n"
     ]
    }
   ],
   "source": [
    "print(\"Taille du corpus toy_dataset : \", len(toy_dataset))\n",
    "\n",
    "# On l'a bien vu que toy_dataset est une liste de 5 phrases \n",
    "# En appliquant la classe à notre corpus, on constate que les textes sont devenus en miniscule. \n",
    "# On associe à chaque phrase son étiquette.\n",
    "\n",
    "print(\"\\n\")\n",
    "for i in range(len(toy_dataset)):\n",
    "    print(toy_dataset[i])"
   ]
  },
  {
   "cell_type": "markdown",
   "metadata": {},
   "source": [
    "```torch.utils.data.DataLoader``` is what we call an iterator, which provides very useful features:\n",
    "- Batching the data\n",
    "- Shuffling the data\n",
    "- Load the data in parallel using multiprocessing workers.\n",
    "and can be created very simply from a ```Dataset```. Continuing on our simple example: "
   ]
  },
  {
   "cell_type": "markdown",
   "metadata": {},
   "source": [
    "**On applique la classe \"DataLoader\" à \"toy_dataset\" pour subdiviser \"toy_dataset \" en Batch (lot)**"
   ]
  },
  {
   "cell_type": "markdown",
   "metadata": {},
   "source": [
    "Cette étape est importante car l'entrainement du modèle ne peut se faire sur les données découpées en batch \"toy_dataloader\"."
   ]
  },
  {
   "cell_type": "code",
   "execution_count": 93,
   "metadata": {},
   "outputs": [],
   "source": [
    "toy_dataloader = DataLoader(toy_dataset, batch_size = 2, shuffle = True)"
   ]
  },
  {
   "cell_type": "code",
   "execution_count": 108,
   "metadata": {},
   "outputs": [
    {
     "name": "stdout",
     "output_type": "stream",
     "text": [
      "Epoch:0\n",
      "Batch: ('i walk down the the avenue', 'i ran down the boulevard'); labels: tensor([0, 1])\n",
      "Batch: ('i walked down the avenue', 'i walk down the city'); labels: tensor([0, 0])\n",
      "Batch: ('i walked down down the boulevard',); labels: tensor([0])\n",
      "Epoch:1\n",
      "Batch: ('i walk down the the avenue', 'i walked down the avenue'); labels: tensor([0, 0])\n",
      "Batch: ('i ran down the boulevard', 'i walk down the city'); labels: tensor([1, 0])\n",
      "Batch: ('i walked down down the boulevard',); labels: tensor([0])\n",
      "Epoch:2\n",
      "Batch: ('i walk down the the avenue', 'i walked down down the boulevard'); labels: tensor([0, 0])\n",
      "Batch: ('i walk down the city', 'i ran down the boulevard'); labels: tensor([0, 1])\n",
      "Batch: ('i walked down the avenue',); labels: tensor([0])\n"
     ]
    }
   ],
   "source": [
    "for e in range(3):\n",
    "    print(\"Epoch:\" + str(e))\n",
    "    for x, y in toy_dataloader:\n",
    "        print(\"Batch: \" + str(x) + \"; labels: \" + str(y))  "
   ]
  },
  {
   "cell_type": "markdown",
   "metadata": {},
   "source": [
    "#### Data processing of a text dataset"
   ]
  },
  {
   "cell_type": "markdown",
   "metadata": {},
   "source": [
    "Now, we would like to apply what we saw to our case, and **create a specific class** ```TextClassificationDataset``` **inheriting** ```Dataset``` that will:\n",
    "- Create a vocabulary from the data (same as above)\n",
    "- Preprocess the data using this vocabulary, adding whatever we need for our pytorch model\n",
    "- Have a ```__getitem__``` method that allows us to use the class with a ```Dataloader``` to easily build batches."
   ]
  },
  {
   "cell_type": "code",
   "execution_count": 109,
   "metadata": {},
   "outputs": [],
   "source": [
    "from torch.nn import functional as F\n",
    "import random\n",
    "\n",
    "from torch.nn.utils.rnn import pad_sequence"
   ]
  },
  {
   "cell_type": "markdown",
   "metadata": {},
   "source": [
    "We will now need to create a ```TextClassificationDataset``` and a ```Dataloader``` for the training data, the validation data, and the testing data."
   ]
  },
  {
   "cell_type": "markdown",
   "metadata": {},
   "source": [
    "We will implement our ```TextClassificationDataset``` class, that we will build from:\n",
    "- A list of documents: ```data```\n",
    "- A list of the corresponding categories: ```categories```\n",
    "We will add three optional arguments:\n",
    "- First, a way to input a vocabulary (so that we can re-use the training vocabulary on the validation and training ```TextClassificationDataset```). By default, the value of the argument is ```None```.\n",
    "- In order to work with batches, we will need to have sequences of the same size. That can be done via **padding** but we will still need to limit the size of documents (to avoid having batches of huge sequences that are mostly empty because of one very long documents) to a ```max_length```. Let's put it to 100 by default.\n",
    "- Lastly, a ```min_freq``` that indicates how many times a word must appear to be taken in the vocabulary. "
   ]
  },
  {
   "cell_type": "markdown",
   "metadata": {},
   "source": [
    "The idea behind **padding** is to transform a list of pytorch tensors (of maybe different length) into a two dimensional tensor - which we can see as a batch. The size of the first dimension is the one of the longest tensor - and other are **padded** with a chosen symbol: here, we choose 0. \n",
    "\n",
    "**Careful: the symbol 0 is then reserved for padding. That means the vocabulary must begin at 1 !** "
   ]
  },
  {
   "cell_type": "code",
   "execution_count": 110,
   "metadata": {},
   "outputs": [],
   "source": [
    "tensor_1 = torch.LongTensor([1, 4, 5])\n",
    "tensor_2 = torch.LongTensor([2])\n",
    "tensor_3 = torch.LongTensor([6, 7])"
   ]
  },
  {
   "cell_type": "code",
   "execution_count": 111,
   "metadata": {},
   "outputs": [
    {
     "name": "stdout",
     "output_type": "stream",
     "text": [
      "tensor([[1, 4, 5],\n",
      "        [2, 0, 0],\n",
      "        [6, 7, 0]])\n"
     ]
    }
   ],
   "source": [
    "tensor_padded = pad_sequence([tensor_1, tensor_2, tensor_3], batch_first=True, padding_value = 0)\n",
    "print(tensor_padded)"
   ]
  },
  {
   "cell_type": "markdown",
   "metadata": {},
   "source": [
    "<div class='alert alert-block alert-info'>\n",
    "            Code:</div>"
   ]
  },
  {
   "cell_type": "markdown",
   "metadata": {},
   "source": [
    "Ma classe \"TextClassificationDataset\" facilite le prétraitement et la gestion des données de classification de textes pour l'entraînement de notre modèle de deep learning en PyTorch, en fournissant une structure de données compatible avec le DataLoader de PyTorch pour un itérage efficace pendant l'entraînement."
   ]
  },
  {
   "cell_type": "code",
   "execution_count": 112,
   "metadata": {},
   "outputs": [],
   "source": [
    "from torch.nn.utils.rnn import pad_sequence\n",
    "from torch.utils.data import Dataset\n",
    "import torch\n",
    "\n",
    "class TextClassificationDataset(Dataset):\n",
    "    def __init__(self, data, categories, vocab=None, max_length=200, min_freq=1):\n",
    "        # Get all the data in a list\n",
    "        self.data = data\n",
    "        \n",
    "        # Set the maximum length we will keep for the sequences\n",
    "        self.max_length = max_length\n",
    "        \n",
    "        # Allow to import a vocabulary (for valid/test datasets, that will use the training vocabulary)\n",
    "        if vocab is not None:\n",
    "            self.word2idx, self.idx2word = vocab\n",
    "        else:\n",
    "            # If no vocabulary imported, build it (and reverse)\n",
    "            self.word2idx, self.idx2word = self.build_vocab(self.data, min_freq)\n",
    "\n",
    "        # Transform list of words into lists of indexes (use the .get() method to redirect unknown words to the UNK token)\n",
    "        indexed_data = [[self.word2idx.get(word, self.word2idx['UNK']) for word in doc] for doc in data]\n",
    "\n",
    "        # And transform this list of lists into a list of Pytorch LongTensors, also apply max_length cutoff\n",
    "        tensor_data = [torch.tensor(doc[:self.max_length]) for doc in indexed_data]\n",
    "\n",
    "        # Pad sequences to have the whole dataset represented as one tensor\n",
    "        # La méthode pad_sequence est utilisée pour normaliser la longueur de toutes les séquences, \n",
    "        # en ajoutant des zéros à la fin de celles qui sont plus courtes que max_length\n",
    "        self.tensor_data = pad_sequence(tensor_data, batch_first=True, padding_value=0)\n",
    "\n",
    "        # And transform categories into a Tensor\n",
    "        self.tensor_y = torch.tensor(categories, dtype=torch.long)\n",
    "\n",
    "    def __len__(self):\n",
    "        return len(self.tensor_data)\n",
    "\n",
    "    def __getitem__(self, idx):\n",
    "        # The iterator just gets one particular example with its category\n",
    "        if torch.is_tensor(idx):\n",
    "            idx = idx.tolist()\n",
    "        return self.tensor_data[idx], self.tensor_y[idx]\n",
    "\n",
    "    def build_vocab(self, corpus, min_freq):\n",
    "        \"\"\"\n",
    "        Build the vocabulary based on the corpus and minimum frequency. \n",
    "        Words with a frequency below min_freq are omitted from the vocabulary.\n",
    "        \"\"\"\n",
    "        # Count word frequencies\n",
    "        word_freq = {}\n",
    "        for doc in corpus:\n",
    "            for word in doc:\n",
    "                word_freq[word] = word_freq.get(word, 0) + 1\n",
    "\n",
    "        # Create vocabulary excluding words below min_freq and sorted by frequency (descending)\n",
    "        sorted_vocab = sorted([word for word, freq in word_freq.items() if freq >= min_freq], \n",
    "                              key=lambda word: -word_freq[word])\n",
    "\n",
    "        # Adding padding and unknown tokens\n",
    "        idx2word = ['<pad>', 'UNK'] + sorted_vocab\n",
    "        word2idx = {word: idx for idx, word in enumerate(idx2word)}\n",
    "\n",
    "        return word2idx, idx2word\n",
    "\n",
    "    def get_vocab(self):\n",
    "        # Return the vocabulary and the reversed vocabulary\n",
    "        return self.word2idx, self.idx2word"
   ]
  },
  {
   "cell_type": "markdown",
   "metadata": {},
   "source": [
    "**On appelle la classe TextClassificationDataset**"
   ]
  },
  {
   "cell_type": "code",
   "execution_count": 113,
   "metadata": {},
   "outputs": [],
   "source": [
    "training_dataset = TextClassificationDataset(train_texts_splt, train_labels_splt)\n",
    "training_word2idx, training_idx2word = training_dataset.get_vocab()"
   ]
  },
  {
   "cell_type": "code",
   "execution_count": 114,
   "metadata": {},
   "outputs": [],
   "source": [
    "valid_dataset = TextClassificationDataset(val_texts, val_labels, (training_word2idx, training_idx2word))\n",
    "test_dataset = TextClassificationDataset(ng_test_text, ng_test_labels, (training_word2idx, training_idx2word))"
   ]
  },
  {
   "cell_type": "markdown",
   "metadata": {},
   "source": [
    "**Les DataLoader**"
   ]
  },
  {
   "cell_type": "code",
   "execution_count": 115,
   "metadata": {},
   "outputs": [],
   "source": [
    "training_dataloader = DataLoader(training_dataset, batch_size = 200, shuffle=True)\n",
    "valid_dataloader = DataLoader(valid_dataset, batch_size = 25)\n",
    "test_dataloader = DataLoader(test_dataset, batch_size = 25)"
   ]
  },
  {
   "cell_type": "code",
   "execution_count": 116,
   "metadata": {},
   "outputs": [
    {
     "name": "stdout",
     "output_type": "stream",
     "text": [
      "(tensor([    1,     1,    23,   960,    81,    43,    10,  3899,  3281, 81101,\n",
      "            2,   193,   145,     1,    16,     1,  3026,    11,   116,   145,\n",
      "            1,    16,   336,  3026,     3,   376,     1,    15,   157,    16,\n",
      "          288,  1218,     3,  2462,    16,    11,    79,  4568, 55624,   476,\n",
      "          661,    37,   129,   819,  2388,    43, 57333,     0,     0,     0,\n",
      "            0,     0,     0,     0,     0,     0,     0,     0,     0,     0,\n",
      "            0,     0,     0,     0,     0,     0,     0,     0,     0,     0,\n",
      "            0,     0,     0,     0,     0,     0,     0,     0,     0,     0,\n",
      "            0,     0,     0,     0,     0,     0,     0,     0,     0,     0,\n",
      "            0,     0,     0,     0,     0,     0,     0,     0,     0,     0,\n",
      "            0,     0,     0,     0,     0,     0,     0,     0,     0,     0,\n",
      "            0,     0,     0,     0,     0,     0,     0,     0,     0,     0,\n",
      "            0,     0,     0,     0,     0,     0,     0,     0,     0,     0,\n",
      "            0,     0,     0,     0,     0,     0,     0,     0,     0,     0,\n",
      "            0,     0,     0,     0,     0,     0,     0,     0,     0,     0,\n",
      "            0,     0,     0,     0,     0,     0,     0,     0,     0,     0,\n",
      "            0,     0,     0,     0,     0,     0,     0,     0,     0,     0,\n",
      "            0,     0,     0,     0,     0,     0,     0,     0,     0,     0,\n",
      "            0,     0,     0,     0,     0,     0,     0,     0,     0,     0,\n",
      "            0,     0,     0,     0,     0,     0,     0,     0,     0,     0]), tensor(3))\n"
     ]
    }
   ],
   "source": [
    "print(valid_dataset[1])"
   ]
  },
  {
   "cell_type": "code",
   "execution_count": 117,
   "metadata": {},
   "outputs": [
    {
     "name": "stdout",
     "output_type": "stream",
     "text": [
      "torch.Size([200, 200])\n",
      "torch.Size([200])\n"
     ]
    }
   ],
   "source": [
    "example_batch = next(iter(training_dataloader))\n",
    "print(example_batch[0].size())\n",
    "print(example_batch[1].size())"
   ]
  },
  {
   "cell_type": "markdown",
   "metadata": {},
   "source": [
    "<h3><font color=\"red\"><strong> II.3 A simple averaging model  </strong></font></h3>"
   ]
  },
  {
   "cell_type": "markdown",
   "metadata": {},
   "source": [
    "Now, we will implement in Pytorch what we did earlier: a simple averaging model. For each model we will implement, we need to create a class which inherits from ```nn.Module``` and redifine the ```__init__``` method as well as the ```forward``` method."
   ]
  },
  {
   "cell_type": "code",
   "execution_count": 118,
   "metadata": {},
   "outputs": [],
   "source": [
    "import torch.optim as optim"
   ]
  },
  {
   "cell_type": "markdown",
   "metadata": {},
   "source": [
    "<div class='alert alert-block alert-info'>\n",
    "            Code:</div>"
   ]
  },
  {
   "cell_type": "code",
   "execution_count": 119,
   "metadata": {},
   "outputs": [],
   "source": [
    "import torch.nn as nn\n",
    "\n",
    "class AveragingModel(nn.Module):\n",
    "    \n",
    "    def __init__(self, embedding_dim, vocabulary_size, categories_num):\n",
    "        super().__init__()\n",
    "        # Créez un objet d'embedding. Faites attention au padding - vous devez augmenter la taille du vocabulaire de un !\n",
    "        # Consultez les arguments de la classe nn.Embedding\n",
    "        # L'index de padding est 0 par défaut, qui est l'index utilisé pour les tokens de padding.\n",
    "        self.embeddings = nn.Embedding(num_embeddings=vocabulary_size + 1, embedding_dim=embedding_dim, padding_idx=0)\n",
    "        \n",
    "        # Créez une couche linéaire qui transformera la moyenne des embeddings en scores de classification\n",
    "        self.linear = nn.Linear(in_features=embedding_dim, out_features=categories_num)\n",
    "        \n",
    "    def forward(self, inputs):\n",
    "        # Rappelez-vous : les entrées sont organisées comme Taille_du_lot * Longueur_séquence\n",
    "        # Nous allons prendre la moyenne le long de la dimension de longueur de la séquence\n",
    "        \n",
    "        # Tout d'abord, obtenez les embeddings pour les entrées\n",
    "        embedded = self.embeddings(inputs)\n",
    "        \n",
    "        # Ensuite, prenez la moyenne des embeddings du document\n",
    "        # Les tenseurs d'entrée sont déjà complétés par du padding, donc nous devrions uniquement considérer les éléments non-padding pour la moyenne\n",
    "        # Nous utiliserons un masque pour ignorer le padding (en supposant padding_idx=0)\n",
    "        mask = inputs != 0\n",
    "        masked_embedded = embedded * mask.unsqueeze(-1).float()  # Appliquer le masque sur les embeddings\n",
    "        x = torch.sum(masked_embedded, dim=1) / mask.sum(dim=1, keepdim=True).float()  # Calculer la moyenne\n",
    "        \n",
    "        # Transformer la moyenne des embeddings en scores de classification\n",
    "        o = self.linear(x)\n",
    "        \n",
    "        return o"
   ]
  },
  {
   "cell_type": "markdown",
   "metadata": {},
   "source": [
    "La couche d'embeddings transforme les indices des mots en vecteurs, tandis que la couche linéaire transformera la moyenne des embeddings en scores de classification pour chaque catégorie. "
   ]
  },
  {
   "cell_type": "code",
   "execution_count": 120,
   "metadata": {},
   "outputs": [],
   "source": [
    "model = AveragingModel(300, len(training_word2idx), max(ng_train_labels)+1)\n",
    "# Create an optimizer\n",
    "opt = optim.Adam(model.parameters(), lr=0.0025, betas=(0.9, 0.999))\n",
    "# The criterion is a cross entropy loss based on logits, \n",
    "# meaning that the softmax is integrated into the criterion\n",
    "criterion = nn.CrossEntropyLoss()"
   ]
  },
  {
   "cell_type": "code",
   "execution_count": 121,
   "metadata": {},
   "outputs": [],
   "source": [
    "device = torch.device(\"cuda\" if torch.cuda.is_available() else \"cpu\")"
   ]
  },
  {
   "cell_type": "markdown",
   "metadata": {},
   "source": [
    "<div class='alert alert-block alert-info'>\n",
    "            Code:</div>"
   ]
  },
  {
   "cell_type": "markdown",
   "metadata": {},
   "source": [
    "**Fonction pour entrainer le modèle**"
   ]
  },
  {
   "cell_type": "code",
   "execution_count": 122,
   "metadata": {},
   "outputs": [],
   "source": [
    "def train_epoch(model, opt, criterion, dataloader):\n",
    "    model.train()\n",
    "    losses = []\n",
    "    total_correct = 0\n",
    "    total_samples = 0\n",
    "    \n",
    "    for i, (x, y) in enumerate(dataloader):\n",
    "        x, y = x.to(device), y.to(device)  # Assurez-vous que x et y sont sur le bon appareil\n",
    "        opt.zero_grad()\n",
    "        # (1) Forward\n",
    "        pred = model(x)\n",
    "        # (2) Compute diff\n",
    "        loss = criterion(pred, y)\n",
    "        # (3) Compute gradients\n",
    "        loss.backward()\n",
    "        # (4) update weights\n",
    "        opt.step()     \n",
    "        losses.append(loss.item())\n",
    "        \n",
    "        # Comptez le nombre de prédictions correctes dans le lot\n",
    "        predicted_labels = torch.argmax(pred, dim=1)\n",
    "        num_corrects = (predicted_labels == y).sum().item()\n",
    "        acc = 100.0 * num_corrects / len(y)\n",
    "        total_correct += num_corrects\n",
    "        total_samples += len(y)\n",
    "        \n",
    "        if (i % 20 == 0):\n",
    "            print(f\"Batch {i} : training loss = {loss.item()}; training acc = {acc}\")\n",
    "    \n",
    "    epoch_acc = 100.0 * total_correct / total_samples\n",
    "    print(f\"Training Accuracy: {epoch_acc}\")\n",
    "    return losses"
   ]
  },
  {
   "cell_type": "markdown",
   "metadata": {},
   "source": [
    "<div class='alert alert-block alert-info'>\n",
    "            Code:</div>"
   ]
  },
  {
   "cell_type": "markdown",
   "metadata": {},
   "source": [
    "**Fonction pour évaluer le modèle**"
   ]
  },
  {
   "cell_type": "code",
   "execution_count": 123,
   "metadata": {},
   "outputs": [],
   "source": [
    "def eval_model(model, criterion, evalloader):\n",
    "    model.eval()\n",
    "    total_epoch_loss = 0\n",
    "    total_epoch_acc = 0\n",
    "    total_samples = 0\n",
    "    \n",
    "    with torch.no_grad():\n",
    "        for i, (x, y) in enumerate(evalloader):\n",
    "            x, y = x.to(device), y.to(device)  # Assurez-vous que x et y sont sur le bon appareil\n",
    "            pred = model(x)\n",
    "            loss = criterion(pred, y)\n",
    "            total_epoch_loss += loss.item()\n",
    "            \n",
    "            # Calculez la précision\n",
    "            predicted_labels = torch.argmax(pred, dim=1)\n",
    "            num_corrects = (predicted_labels == y).sum().item()\n",
    "            acc = 100.0 * num_corrects / len(y)\n",
    "            total_epoch_acc += acc\n",
    "            total_samples += len(y)\n",
    "\n",
    "    # Calculez la perte et la précision moyennes sur l'époque\n",
    "    avg_loss = total_epoch_loss / len(evalloader)\n",
    "    avg_acc = total_epoch_acc / len(evalloader)\n",
    "    print(f\"Validation Loss: {avg_loss}, Validation Accuracy: {avg_acc}\")\n",
    "    return total_epoch_loss/(i+1), total_epoch_acc/(i+1)"
   ]
  },
  {
   "cell_type": "markdown",
   "metadata": {},
   "source": [
    "**Fonction experiment**"
   ]
  },
  {
   "cell_type": "code",
   "execution_count": 124,
   "metadata": {},
   "outputs": [],
   "source": [
    "# A function which will help you execute experiments rapidly - with a early_stopping option when necessary.\n",
    "\n",
    "def experiment(model, opt, criterion, num_epochs = 10, early_stopping = True):\n",
    "    train_losses = []\n",
    "    if early_stopping: \n",
    "        best_valid_loss = 10. \n",
    "    print(\"Beginning training...\")\n",
    "    for e in range(num_epochs):\n",
    "        print(\"Epoch \" + str(e+1) + \":\")\n",
    "        train_losses += train_epoch(model, opt, criterion, training_dataloader)\n",
    "        valid_loss, valid_acc = eval_model(model, criterion, valid_dataloader)\n",
    "        print(\"Epoch \" + str(e+1) + \" : Validation loss = \" + str(valid_loss) + \"; Validation acc = \" + str(valid_acc))\n",
    "        if early_stopping:\n",
    "            if valid_loss < best_valid_loss:\n",
    "                best_valid_loss = valid_loss\n",
    "            else:\n",
    "                print(\"Early stopping.\")\n",
    "                break  \n",
    "    test_loss, test_acc = eval_model(model, criterion, test_dataloader)\n",
    "    print(\"Epoch \" + str(e+1) + \" : Test loss = \" + str(test_loss) + \"; Test acc = \" + str(test_acc))\n",
    "    return train_losses"
   ]
  },
  {
   "cell_type": "code",
   "execution_count": 125,
   "metadata": {},
   "outputs": [
    {
     "name": "stdout",
     "output_type": "stream",
     "text": [
      "Beginning training...\n",
      "Epoch 1:\n",
      "Batch 0 : training loss = 1.8000602722167969; training acc = 19.5\n",
      "Batch 20 : training loss = 1.614519476890564; training acc = 33.5\n",
      "Batch 40 : training loss = 1.5167641639709473; training acc = 41.5\n",
      "Training Accuracy: 32.845307002610376\n",
      "Validation Loss: 1.5173124061541612, Validation Accuracy: 41.10861423220974\n",
      "Epoch 1 : Validation loss = 1.5173124061541612; Validation acc = 41.10861423220974\n",
      "Epoch 2:\n",
      "Batch 0 : training loss = 1.4593675136566162; training acc = 52.0\n",
      "Batch 20 : training loss = 1.341837763786316; training acc = 58.0\n",
      "Batch 40 : training loss = 1.2199312448501587; training acc = 67.0\n",
      "Training Accuracy: 54.658949040971514\n",
      "Validation Loss: 1.2770326137542725, Validation Accuracy: 59.20599250936329\n",
      "Epoch 2 : Validation loss = 1.2770326137542725; Validation acc = 59.20599250936329\n",
      "Epoch 3:\n",
      "Batch 0 : training loss = 1.1455399990081787; training acc = 70.5\n",
      "Batch 20 : training loss = 1.0928025245666504; training acc = 72.5\n",
      "Batch 40 : training loss = 1.0246926546096802; training acc = 65.0\n",
      "Training Accuracy: 70.78651685393258\n",
      "Validation Loss: 1.0584116189667347, Validation Accuracy: 66.86142322097379\n",
      "Epoch 3 : Validation loss = 1.0584116189667347; Validation acc = 66.86142322097379\n",
      "Epoch 4:\n",
      "Batch 0 : training loss = 0.8563241362571716; training acc = 83.5\n",
      "Batch 20 : training loss = 0.7409774661064148; training acc = 80.5\n",
      "Batch 40 : training loss = 0.7516065239906311; training acc = 79.5\n",
      "Training Accuracy: 80.67188741346045\n",
      "Validation Loss: 0.8980608636073852, Validation Accuracy: 71.95505617977528\n",
      "Epoch 4 : Validation loss = 0.8980608636073852; Validation acc = 71.95505617977528\n",
      "Epoch 5:\n",
      "Batch 0 : training loss = 0.6401167511940002; training acc = 83.5\n",
      "Batch 20 : training loss = 0.6271417140960693; training acc = 85.5\n",
      "Batch 40 : training loss = 0.5795202851295471; training acc = 84.5\n",
      "Training Accuracy: 87.62909998865055\n",
      "Validation Loss: 0.7840577762448386, Validation Accuracy: 75.28089887640449\n",
      "Epoch 5 : Validation loss = 0.7840577762448386; Validation acc = 75.28089887640449\n",
      "Epoch 6:\n",
      "Batch 0 : training loss = 0.4359782040119171; training acc = 90.5\n",
      "Batch 20 : training loss = 0.40842926502227783; training acc = 91.5\n",
      "Batch 40 : training loss = 0.36892685294151306; training acc = 95.5\n",
      "Training Accuracy: 92.22562705708773\n",
      "Validation Loss: 0.7110255981764096, Validation Accuracy: 77.1685393258427\n",
      "Epoch 6 : Validation loss = 0.7110255981764096; Validation acc = 77.1685393258427\n",
      "Epoch 7:\n",
      "Batch 0 : training loss = 0.309365451335907; training acc = 97.5\n",
      "Batch 20 : training loss = 0.2837681770324707; training acc = 96.0\n",
      "Batch 40 : training loss = 0.20816385746002197; training acc = 96.5\n",
      "Training Accuracy: 95.05163999546022\n",
      "Validation Loss: 0.6616620640741305, Validation Accuracy: 78.20224719101124\n",
      "Epoch 7 : Validation loss = 0.6616620640741305; Validation acc = 78.20224719101124\n",
      "Epoch 8:\n",
      "Batch 0 : training loss = 0.21538046002388; training acc = 96.5\n",
      "Batch 20 : training loss = 0.2122216373682022; training acc = 98.0\n",
      "Batch 40 : training loss = 0.2188248187303543; training acc = 96.5\n",
      "Training Accuracy: 96.79945522642151\n",
      "Validation Loss: 0.6317277429311463, Validation Accuracy: 78.8314606741573\n",
      "Epoch 8 : Validation loss = 0.6317277429311463; Validation acc = 78.8314606741573\n",
      "Epoch 9:\n",
      "Batch 0 : training loss = 0.16936041414737701; training acc = 97.0\n",
      "Batch 20 : training loss = 0.16749076545238495; training acc = 98.5\n",
      "Batch 40 : training loss = 0.134949192404747; training acc = 98.5\n",
      "Training Accuracy: 97.99114742934968\n",
      "Validation Loss: 0.6124934331419762, Validation Accuracy: 79.46067415730337\n",
      "Epoch 9 : Validation loss = 0.6124934331419762; Validation acc = 79.46067415730337\n",
      "Epoch 10:\n",
      "Batch 0 : training loss = 0.11582238227128983; training acc = 98.5\n",
      "Batch 20 : training loss = 0.1385701596736908; training acc = 99.0\n",
      "Batch 40 : training loss = 0.12260375171899796; training acc = 98.5\n",
      "Training Accuracy: 98.52457155827942\n",
      "Validation Loss: 0.5987498252077049, Validation Accuracy: 79.73033707865169\n",
      "Epoch 10 : Validation loss = 0.5987498252077049; Validation acc = 79.73033707865169\n",
      "Validation Loss: 0.6988071499220747, Validation Accuracy: 78.0148564545272\n",
      "Epoch 10 : Test loss = 0.6988071499220747; Test acc = 78.0148564545272\n"
     ]
    }
   ],
   "source": [
    "train_losses = experiment(model, opt, criterion)"
   ]
  },
  {
   "cell_type": "code",
   "execution_count": 126,
   "metadata": {},
   "outputs": [
    {
     "data": {
      "text/plain": [
       "[<matplotlib.lines.Line2D at 0x26110881150>]"
      ]
     },
     "execution_count": 126,
     "metadata": {},
     "output_type": "execute_result"
    },
    {
     "data": {
      "image/png": "[encoded data removed]",
      "text/plain": [
       "<Figure size 640x480 with 1 Axes>"
      ]
     },
     "metadata": {},
     "output_type": "display_data"
    }
   ],
   "source": [
    "import matplotlib.pyplot as plt\n",
    "plt.plot(train_losses)"
   ]
  },
  {
   "cell_type": "markdown",
   "metadata": {},
   "source": [
    "<h3><font color=\"red\"><strong> II.4 Initializing with pre-trained embeddings  </strong></font></h3>"
   ]
  },
  {
   "cell_type": "markdown",
   "metadata": {},
   "source": [
    "Now, we would like to integrate pre-trained word embeddings into our model ! However, we need to not forget to add a vector for the padding symbol."
   ]
  },
  {
   "cell_type": "code",
   "execution_count": 72,
   "metadata": {},
   "outputs": [],
   "source": [
    "def get_glove_adapted_embeddings(glove_model, input_voc):\n",
    "    keys = {i: glove_model.key_to_index.get(w, None) for w, i in input_voc.items()}\n",
    "    index_dict = {i: key for i, key in keys.items() if key is not None}\n",
    "    # Important change here: add one supplementary word for padding\n",
    "    embeddings = np.zeros((len(input_voc)+1,glove_model.vectors.shape[1])) \n",
    "    for i, ind in index_dict.items():\n",
    "        embeddings[i] = glove_model.vectors[ind]\n",
    "    return embeddings\n",
    "\n",
    "GloveEmbeddings = get_glove_adapted_embeddings(loaded_glove_model, training_word2idx)"
   ]
  },
  {
   "cell_type": "code",
   "execution_count": 73,
   "metadata": {},
   "outputs": [
    {
     "name": "stdout",
     "output_type": "stream",
     "text": [
      "(135870, 300)\n"
     ]
    }
   ],
   "source": [
    "print(GloveEmbeddings.shape)"
   ]
  },
  {
   "cell_type": "markdown",
   "metadata": {},
   "source": [
    "Here, implement a ```PretrainedAveragingModel``` very similar to the previous model, using the ```nn.Embedding``` method ```from_pretrained()``` to initialize the embeddings from a numpy array. Use the ```requires_grad_``` method to specify if the model must fine-tune the embeddings or not ! \n",
    "<div class='alert alert-block alert-info'>\n",
    "            Code:</div>"
   ]
  },
  {
   "cell_type": "markdown",
   "metadata": {},
   "source": [
    "**Classe PretrainedAveragingModel**"
   ]
  },
  {
   "cell_type": "code",
   "execution_count": 74,
   "metadata": {},
   "outputs": [],
   "source": [
    "class PretrainedAveragingModel(nn.Module):\n",
    "    def __init__(self, embedding_dim, categories_num, pretrained_embeddings, freeze_embeddings=True):\n",
    "        super(PretrainedAveragingModel, self).__init__()\n",
    "        # Initialiser les embeddings à partir d'un tableau numpy\n",
    "        # Ici, pretrained_embeddings doit déjà être un tensor FloatTensor\n",
    "        self.embeddings = nn.Embedding.from_pretrained(pretrained_embeddings, freeze=freeze_embeddings)\n",
    "        \n",
    "        # Créer une couche linéaire pour transformer la moyenne des embeddings en scores de classification\n",
    "        self.linear = nn.Linear(in_features=embedding_dim, out_features=categories_num)\n",
    "        \n",
    "    def forward(self, inputs):\n",
    "        # Obtenir les embeddings pour les entrées\n",
    "        embedded = self.embeddings(inputs)\n",
    "        \n",
    "        # Prendre la moyenne des embeddings du document\n",
    "        mask = inputs != 0  # Ignorer le padding\n",
    "        masked_embedded = embedded * mask.unsqueeze(-1).float()\n",
    "        x = torch.sum(masked_embedded, dim=1) / mask.sum(dim=1, keepdim=True).float()\n",
    "        \n",
    "        # Transformer la moyenne des embeddings en scores de classification\n",
    "        o = self.linear(x)\n",
    "        \n",
    "        return o"
   ]
  },
  {
   "cell_type": "markdown",
   "metadata": {},
   "source": [
    "<div class='alert alert-block alert-warning'>\n",
    "            Questions:</div>\n",
    "            \n",
    "- What are the results **with and without fine-tuning of embeddings imported from GloVe** ? Explain them.\n",
    "- Use the following ```sklearn``` functions: ```confusion_matrix, ConfusionMatrixDisplay, classification_report``` from (```sklearn.metrics```) to analyze the results further. "
   ]
  },
  {
   "cell_type": "markdown",
   "metadata": {},
   "source": [
    "**model_pre_trained**"
   ]
  },
  {
   "cell_type": "code",
   "execution_count": 75,
   "metadata": {},
   "outputs": [
    {
     "name": "stdout",
     "output_type": "stream",
     "text": [
      "Beginning training...\n",
      "Epoch 1:\n",
      "Batch 0 : training loss = 1.7909479141235352; training acc = 24.0\n",
      "Batch 20 : training loss = 1.6126468181610107; training acc = 29.0\n",
      "Batch 40 : training loss = 1.5643447637557983; training acc = 36.5\n",
      "Training Accuracy: 31.131540120304166\n",
      "Validation Loss: 1.55620612321275, Validation Accuracy: 44.47940074906367\n",
      "Epoch 1 : Validation loss = 1.55620612321275; Validation acc = 44.47940074906367\n",
      "Epoch 2:\n",
      "Batch 0 : training loss = 1.5807900428771973; training acc = 46.5\n",
      "Batch 20 : training loss = 1.5068602561950684; training acc = 45.0\n",
      "Batch 40 : training loss = 1.4779914617538452; training acc = 51.5\n",
      "Training Accuracy: 46.54409261150834\n",
      "Validation Loss: 1.4511043596803472, Validation Accuracy: 50.337078651685395\n",
      "Epoch 2 : Validation loss = 1.4511043596803472; Validation acc = 50.337078651685395\n",
      "Epoch 3:\n",
      "Batch 0 : training loss = 1.4240292310714722; training acc = 56.5\n",
      "Batch 20 : training loss = 1.4924631118774414; training acc = 45.0\n",
      "Batch 40 : training loss = 1.4043136835098267; training acc = 55.0\n",
      "Training Accuracy: 53.14947225059585\n",
      "Validation Loss: 1.3680621827586312, Validation Accuracy: 56.0749063670412\n",
      "Epoch 3 : Validation loss = 1.3680621827586312; Validation acc = 56.0749063670412\n",
      "Epoch 4:\n",
      "Batch 0 : training loss = 1.3760924339294434; training acc = 60.0\n",
      "Batch 20 : training loss = 1.3335294723510742; training acc = 60.5\n",
      "Batch 40 : training loss = 1.3277359008789062; training acc = 59.0\n",
      "Training Accuracy: 57.723300419929636\n",
      "Validation Loss: 1.302677826934986, Validation Accuracy: 59.131086142322104\n",
      "Epoch 4 : Validation loss = 1.302677826934986; Validation acc = 59.131086142322104\n",
      "Epoch 5:\n",
      "Batch 0 : training loss = 1.2876651287078857; training acc = 65.5\n",
      "Batch 20 : training loss = 1.2436730861663818; training acc = 63.0\n",
      "Batch 40 : training loss = 1.2532505989074707; training acc = 66.5\n",
      "Training Accuracy: 60.867097945749634\n",
      "Validation Loss: 1.2512517363837596, Validation Accuracy: 61.31835205992509\n",
      "Epoch 5 : Validation loss = 1.2512517363837596; Validation acc = 61.31835205992509\n",
      "Epoch 6:\n",
      "Batch 0 : training loss = 1.334468126296997; training acc = 55.5\n",
      "Batch 20 : training loss = 1.2506695985794067; training acc = 55.5\n",
      "Batch 40 : training loss = 1.2900481224060059; training acc = 55.0\n",
      "Training Accuracy: 62.12688684598797\n",
      "Validation Loss: 1.2081341194302848, Validation Accuracy: 62.0374531835206\n",
      "Epoch 6 : Validation loss = 1.2081341194302848; Validation acc = 62.0374531835206\n",
      "Epoch 7:\n",
      "Batch 0 : training loss = 1.1199262142181396; training acc = 66.5\n",
      "Batch 20 : training loss = 1.1656126976013184; training acc = 63.5\n",
      "Batch 40 : training loss = 1.2000919580459595; training acc = 59.5\n",
      "Training Accuracy: 62.944047213710135\n",
      "Validation Loss: 1.1736151013481484, Validation Accuracy: 64.20973782771536\n",
      "Epoch 7 : Validation loss = 1.1736151013481484; Validation acc = 64.20973782771536\n",
      "Epoch 8:\n",
      "Batch 0 : training loss = 1.2586888074874878; training acc = 60.0\n",
      "Batch 20 : training loss = 1.1166075468063354; training acc = 65.0\n",
      "Batch 40 : training loss = 1.1287531852722168; training acc = 65.0\n",
      "Training Accuracy: 65.157189876291\n",
      "Validation Loss: 1.1415823590889405, Validation Accuracy: 64.97378277153558\n",
      "Epoch 8 : Validation loss = 1.1415823590889405; Validation acc = 64.97378277153558\n",
      "Epoch 9:\n",
      "Batch 0 : training loss = 1.0867499113082886; training acc = 70.5\n",
      "Batch 20 : training loss = 1.1368675231933594; training acc = 67.0\n",
      "Batch 40 : training loss = 1.126291036605835; training acc = 61.0\n",
      "Training Accuracy: 65.58846895925548\n",
      "Validation Loss: 1.116487626279338, Validation Accuracy: 65.33333333333334\n",
      "Epoch 9 : Validation loss = 1.116487626279338; Validation acc = 65.33333333333334\n",
      "Epoch 10:\n",
      "Batch 0 : training loss = 1.061487078666687; training acc = 64.5\n",
      "Batch 20 : training loss = 1.0769685506820679; training acc = 65.5\n",
      "Batch 40 : training loss = 1.0645503997802734; training acc = 68.0\n",
      "Training Accuracy: 66.32618318011576\n",
      "Validation Loss: 1.0937998656476482, Validation Accuracy: 65.82771535580525\n",
      "Epoch 10 : Validation loss = 1.0937998656476482; Validation acc = 65.82771535580525\n",
      "Validation Loss: 1.1067628305112949, Validation Accuracy: 64.09154788195141\n",
      "Epoch 10 : Test loss = 1.1067628305112949; Test acc = 64.09154788195141\n",
      "Validation Loss: 1.1067628305112949, Validation Accuracy: 64.09154788195141\n",
      "\n",
      "\n",
      "Results with fine-tuning of embeddings from GloVe:\n",
      "Test loss: 1.1067628305112949, Test accuracy: 64.09154788195141\n"
     ]
    }
   ],
   "source": [
    "model_pre_trained = PretrainedAveragingModel(300, max(ng_train_labels)+1, torch.FloatTensor(GloveEmbeddings), True)\n",
    "opt_pre_trained = optim.Adam(model_pre_trained.parameters(), lr=0.0025, betas=(0.9, 0.999))\n",
    "\n",
    "train_losses = experiment(model_pre_trained, opt_pre_trained, criterion)\n",
    "\n",
    "# Evaluate both models\n",
    "test_loss_pre_trained, test_acc_pre_trained = eval_model(model_pre_trained, criterion, test_dataloader)\n",
    "print(\"\\n\")\n",
    "print(\"Results with fine-tuning of embeddings from GloVe:\")\n",
    "print(f\"Test loss: {test_loss_pre_trained}, Test accuracy: {test_acc_pre_trained}\")"
   ]
  },
  {
   "cell_type": "code",
   "execution_count": null,
   "metadata": {},
   "outputs": [],
   "source": []
  },
  {
   "cell_type": "markdown",
   "metadata": {},
   "source": [
    "**model_pre_trained_light**"
   ]
  },
  {
   "cell_type": "code",
   "execution_count": 76,
   "metadata": {},
   "outputs": [
    {
     "name": "stdout",
     "output_type": "stream",
     "text": [
      "Beginning training...\n",
      "Epoch 1:\n",
      "Batch 0 : training loss = 1.8168834447860718; training acc = 18.0\n",
      "Batch 20 : training loss = 1.6510841846466064; training acc = 31.0\n",
      "Batch 40 : training loss = 1.4653956890106201; training acc = 48.5\n",
      "Training Accuracy: 36.39768471229145\n",
      "Validation Loss: 1.4359162389562372, Validation Accuracy: 49.662921348314605\n",
      "Epoch 1 : Validation loss = 1.4359162389562372; Validation acc = 49.662921348314605\n",
      "Epoch 2:\n",
      "Batch 0 : training loss = 1.3910681009292603; training acc = 57.5\n",
      "Batch 20 : training loss = 1.2617580890655518; training acc = 64.0\n",
      "Batch 40 : training loss = 1.0764375925064087; training acc = 70.0\n",
      "Training Accuracy: 63.738508682328906\n",
      "Validation Loss: 1.0789689910545777, Validation Accuracy: 70.84644194756554\n",
      "Epoch 2 : Validation loss = 1.0789689910545777; Validation acc = 70.84644194756554\n",
      "Epoch 3:\n",
      "Batch 0 : training loss = 1.0176161527633667; training acc = 76.0\n",
      "Batch 20 : training loss = 0.8582532405853271; training acc = 75.5\n",
      "Batch 40 : training loss = 0.6586080193519592; training acc = 91.0\n",
      "Training Accuracy: 79.0943139257746\n",
      "Validation Loss: 0.8314521205559205, Validation Accuracy: 76.55430711610487\n",
      "Epoch 3 : Validation loss = 0.8314521205559205; Validation acc = 76.55430711610487\n",
      "Epoch 4:\n",
      "Batch 0 : training loss = 0.5926202535629272; training acc = 89.0\n",
      "Batch 20 : training loss = 0.5077226161956787; training acc = 92.0\n",
      "Batch 40 : training loss = 0.42631077766418457; training acc = 93.5\n",
      "Training Accuracy: 88.11712631937351\n",
      "Validation Loss: 0.690652179249217, Validation Accuracy: 80.11985018726593\n",
      "Epoch 4 : Validation loss = 0.690652179249217; Validation acc = 80.11985018726593\n",
      "Epoch 5:\n",
      "Batch 0 : training loss = 0.40721631050109863; training acc = 92.5\n",
      "Batch 20 : training loss = 0.3425664007663727; training acc = 94.0\n",
      "Batch 40 : training loss = 0.35760414600372314; training acc = 92.5\n",
      "Training Accuracy: 92.87254568153445\n",
      "Validation Loss: 0.608986588676324, Validation Accuracy: 82.23220973782772\n",
      "Epoch 5 : Validation loss = 0.608986588676324; Validation acc = 82.23220973782772\n",
      "Epoch 6:\n",
      "Batch 0 : training loss = 0.25614121556282043; training acc = 98.0\n",
      "Batch 20 : training loss = 0.2271088808774948; training acc = 96.0\n",
      "Batch 40 : training loss = 0.23125848174095154; training acc = 96.0\n",
      "Training Accuracy: 95.98229485869935\n",
      "Validation Loss: 0.5658846166026726, Validation Accuracy: 83.22097378277154\n",
      "Epoch 6 : Validation loss = 0.5658846166026726; Validation acc = 83.22097378277154\n",
      "Epoch 7:\n",
      "Batch 0 : training loss = 0.17136932909488678; training acc = 98.0\n",
      "Batch 20 : training loss = 0.15817540884017944; training acc = 97.5\n",
      "Batch 40 : training loss = 0.17619703710079193; training acc = 97.0\n",
      "Training Accuracy: 97.48042219952332\n",
      "Validation Loss: 0.5386653897467624, Validation Accuracy: 83.62546816479401\n",
      "Epoch 7 : Validation loss = 0.5386653897467624; Validation acc = 83.62546816479401\n",
      "Epoch 8:\n",
      "Batch 0 : training loss = 0.13397809863090515; training acc = 98.5\n",
      "Batch 20 : training loss = 0.153445303440094; training acc = 98.0\n",
      "Batch 40 : training loss = 0.12103176862001419; training acc = 98.5\n",
      "Training Accuracy: 98.52457155827942\n",
      "Validation Loss: 0.5207812434501862, Validation Accuracy: 84.11985018726593\n",
      "Epoch 8 : Validation loss = 0.5207812434501862; Validation acc = 84.11985018726593\n",
      "Epoch 9:\n",
      "Batch 0 : training loss = 0.09344109892845154; training acc = 99.0\n",
      "Batch 20 : training loss = 0.07040008157491684; training acc = 99.5\n",
      "Batch 40 : training loss = 0.0780133455991745; training acc = 99.0\n",
      "Training Accuracy: 99.08069458631256\n",
      "Validation Loss: 0.5126608832833472, Validation Accuracy: 84.29962546816479\n",
      "Epoch 9 : Validation loss = 0.5126608832833472; Validation acc = 84.29962546816479\n",
      "Epoch 10:\n",
      "Batch 0 : training loss = 0.07093047350645065; training acc = 99.5\n",
      "Batch 20 : training loss = 0.07835900038480759; training acc = 99.0\n",
      "Batch 40 : training loss = 0.06244928762316704; training acc = 100.0\n",
      "Training Accuracy: 99.38712972420838\n",
      "Validation Loss: 0.5056686088275374, Validation Accuracy: 84.43445692883896\n",
      "Epoch 10 : Validation loss = 0.5056686088275374; Validation acc = 84.43445692883896\n",
      "Validation Loss: 0.6076154811085288, Validation Accuracy: 81.37964264203976\n",
      "Epoch 10 : Test loss = 0.6076154811085288; Test acc = 81.37964264203976\n",
      "Validation Loss: 0.6076154811085288, Validation Accuracy: 81.37964264203976\n",
      "\n",
      "\n",
      "Results with fine-tuning of embeddings from GloVe:\n",
      "Test loss: 0.6076154811085288, Test accuracy: 81.37964264203976\n"
     ]
    }
   ],
   "source": [
    "# Appel de la classe \"PretrainedAveragingModel\"\n",
    "model_pre_trained_light = PretrainedAveragingModel(300, max(ng_train_labels)+1, torch.FloatTensor(GloveEmbeddings), False)\n",
    "opt_pre_trained_light = optim.Adam(model_pre_trained_light.parameters(), lr=0.0025, betas=(0.9, 0.999))\n",
    "\n",
    "# Appel de la fonction \"experiment\"\n",
    "train_losses = experiment(model_pre_trained_light, opt_pre_trained_light, criterion)\n",
    "\n",
    "# Appel de la fonction \"eval_model\"\n",
    "test_loss_pre_trained_light, test_acc_pre_trained_light = eval_model(model_pre_trained_light, criterion, test_dataloader)\n",
    "\n",
    "print(\"\\n\")\n",
    "print(\"Results with fine-tuning of embeddings from GloVe:\")\n",
    "print(f\"Test loss: {test_loss_pre_trained_light}, Test accuracy: {test_acc_pre_trained_light}\")"
   ]
  },
  {
   "cell_type": "code",
   "execution_count": null,
   "metadata": {},
   "outputs": [],
   "source": []
  },
  {
   "cell_type": "markdown",
   "metadata": {},
   "source": [
    "**Matrice de confusion de \"model_pre_trained\" et \"model_pre_trained_light\"**"
   ]
  },
  {
   "cell_type": "code",
   "execution_count": 77,
   "metadata": {},
   "outputs": [
    {
     "data": {
      "image/png": "[encoded data removed]",
      "text/plain": [
       "<Figure size 640x480 with 2 Axes>"
      ]
     },
     "metadata": {},
     "output_type": "display_data"
    },
    {
     "name": "stdout",
     "output_type": "stream",
     "text": [
      "Classification Report (Pre-trained):\n",
      "              precision    recall  f1-score   support\n",
      "\n",
      "           0       0.63      0.83      0.72      1911\n",
      "           1       0.63      0.73      0.68      1534\n",
      "           2       0.61      0.50      0.55      1523\n",
      "           3       0.74      0.34      0.46       382\n",
      "           4       0.72      0.47      0.57      1027\n",
      "           5       0.65      0.64      0.65       940\n",
      "\n",
      "    accuracy                           0.64      7317\n",
      "   macro avg       0.66      0.59      0.60      7317\n",
      "weighted avg       0.65      0.64      0.63      7317\n",
      "\n"
     ]
    },
    {
     "data": {
      "image/png": "[encoded data removed]",
      "text/plain": [
       "<Figure size 640x480 with 2 Axes>"
      ]
     },
     "metadata": {},
     "output_type": "display_data"
    },
    {
     "name": "stdout",
     "output_type": "stream",
     "text": [
      "Classification Report (Fine-tuned):\n",
      "              precision    recall  f1-score   support\n",
      "\n",
      "           0       0.85      0.88      0.87      1911\n",
      "           1       0.86      0.84      0.85      1534\n",
      "           2       0.78      0.76      0.77      1523\n",
      "           3       0.79      0.73      0.76       382\n",
      "           4       0.76      0.79      0.77      1027\n",
      "           5       0.78      0.79      0.78       940\n",
      "\n",
      "    accuracy                           0.81      7317\n",
      "   macro avg       0.80      0.80      0.80      7317\n",
      "weighted avg       0.81      0.81      0.81      7317\n",
      "\n"
     ]
    }
   ],
   "source": [
    "from sklearn.metrics import confusion_matrix, ConfusionMatrixDisplay, classification_report\n",
    "\n",
    "def get_predictions(model, dataloader):\n",
    "    model.eval()\n",
    "    all_preds = []\n",
    "    all_true = []\n",
    "    with torch.no_grad():\n",
    "        for inputs, labels in dataloader:\n",
    "            inputs = inputs.to(device)\n",
    "            labels = labels.to(device)\n",
    "            outputs = model(inputs)\n",
    "            _, preds = torch.max(outputs, 1)\n",
    "            all_preds.extend(preds.cpu().numpy())\n",
    "            all_true.extend(labels.cpu().numpy())\n",
    "    return all_true, all_preds\n",
    "\n",
    "# Get predictions and true labels for the pre-trained model\n",
    "true_labels_pre_trained, predictions_pre_trained = get_predictions(model_pre_trained, test_dataloader)\n",
    "\n",
    "# Calculate and display the confusion matrix for the pre-trained model\n",
    "cm_pre_trained = confusion_matrix(true_labels_pre_trained, predictions_pre_trained)\n",
    "disp_pre_trained = ConfusionMatrixDisplay(cm_pre_trained)\n",
    "disp_pre_trained.plot()\n",
    "plt.title('Confusion Matrix (Pre-trained)')\n",
    "plt.show()\n",
    "\n",
    "# Print classification report for the pre-trained model\n",
    "print(\"Classification Report (Pre-trained):\")\n",
    "print(classification_report(true_labels_pre_trained, predictions_pre_trained))\n",
    "\n",
    "# Repeat the process for the fine-tuned model\n",
    "true_labels_pre_trained_light, predictions_pre_trained_light = get_predictions(model_pre_trained_light, test_dataloader)\n",
    "\n",
    "# Calculate and display the confusion matrix for the fine-tuned model\n",
    "cm_pre_trained_light = confusion_matrix(true_labels_pre_trained_light, predictions_pre_trained_light)\n",
    "disp_pre_trained_light = ConfusionMatrixDisplay(cm_pre_trained_light)\n",
    "disp_pre_trained_light.plot()\n",
    "plt.title('Confusion Matrix (Fine-tuned)')\n",
    "plt.show()\n",
    "\n",
    "# Print classification report for the fine-tuned model\n",
    "print(\"Classification Report (Fine-tuned):\")\n",
    "print(classification_report(true_labels_pre_trained_light, predictions_pre_trained_light))"
   ]
  },
  {
   "cell_type": "markdown",
   "metadata": {},
   "source": [
    "**CONCLUSION**\n",
    "\n",
    "**Pour le modèle pré-entraîné (sans réglage fin) :**\n",
    "\n",
    "Les scores de précision varient de 0,61 à 0,72 par classe, indiquant que le modèle est relativement moins certain de ses prédictions pour certaines classes par rapport à d'autres.\n",
    "Les rappels (recall) varient de 0.36 à 0.78, suggérant que le modèle manque un grand nombre de prédictions positives vraies pour la classe 3 et performe mieux pour la classe 0.\\\n",
    "Les scores F1, qui sont des moyennes harmoniques de la précision et du rappel, varient de 0.48 à 0.72, avec des performances particulièrement basses pour la classe 3, ce qui implique que cette classe a le plus grand déséquilibre entre précision et rappel.\n",
    "La précision globale est de 0,65, ce qui est respectable mais indique une marge d'amélioration.\n",
    "\n",
    "**Pour le modèle fine-tuned (avec fine-tuning) :**\n",
    "\n",
    "Les scores de précision et de rappel sont nettement améliorés pour toutes les classes, avec des précisions allant de 0,75 à 0,87 et des rappels allant de 0,72 à 0,88.\n",
    "Les scores F1 suivent le même schéma d'amélioration et sont de 0,76 à 0,86 pour toutes les classes.\n",
    "La précision globale a considérablement augmenté à 0,81, indiquant que le réglage fin a permis au modèle d'être significativement plus précis dans ses prédictions.\\\n",
    "Les moyennes macro et pondérées ont également augmenté, ce qui suggère que l'amélioration est cohérente à travers toutes les classes.\n",
    "En conclusion, la mise au point des plongements a mené à une essentiellement des performances du modèle. Cela pourrait être dû à la capacité du modèle fine-tuned à adapter les embeddings à la spécificité du domaine et des données traitées, alors que le modèle pré-entraîné était limité par des embeddings génériques qui n'avaient pas été optimisés pour cette tâche particulière ."
   ]
  },
  {
   "cell_type": "markdown",
   "metadata": {},
   "source": [
    "<h3><font color=\"red\"><strong> II.5 With a LSTM model </strong></font></h3>"
   ]
  },
  {
   "cell_type": "code",
   "execution_count": 78,
   "metadata": {},
   "outputs": [
    {
     "name": "stdout",
     "output_type": "stream",
     "text": [
      "tensor([[[-0.1771,  0.1419,  0.1177]],\n",
      "\n",
      "        [[-0.2831,  0.0431,  0.0132]],\n",
      "\n",
      "        [[-0.2871, -0.0785,  0.0721]],\n",
      "\n",
      "        [[-0.1306,  0.0873,  0.0127]],\n",
      "\n",
      "        [[-0.1821,  0.0439,  0.0642]]], grad_fn=<MkldnnRnnLayerBackward0>)\n",
      "(tensor([[[-0.1821,  0.0439,  0.0642]]], grad_fn=<StackBackward0>), tensor([[[-0.6757,  0.1474,  0.1700]]], grad_fn=<StackBackward0>))\n"
     ]
    }
   ],
   "source": [
    "# Create a toy example of LSTM:\n",
    "lstm = nn.LSTM(3, 3)  # Input dim is 3, output dim is 3\n",
    "inputs = [torch.randn(1, 3) for _ in range(5)]  # make a sequence of length 5\n",
    "\n",
    "# LSTMs expect inputs having 3 dimensions:\n",
    "# - The first dimension is the temporal dimension, along which we (in our case) have the different words\n",
    "# - The second dimension is the batch dimension, along which we stack the independant batches\n",
    "# - The third dimension is the feature dimension, along which are the features of the vector representing the words\n",
    "\n",
    "# In our toy case, we have inputs and outputs containing 3 features (third dimension !)\n",
    "# We created a sequence of 5 different inputs (first dimension !)\n",
    "# We don't use batch (the second dimension will have one lement)\n",
    "\n",
    "# We need an initial hidden state, of the right sizes for dimension 2/3, but with only one temporal element:\n",
    "# Here, it is:\n",
    "hidden = (torch.randn(1, 1, 3),\n",
    "          torch.randn(1, 1, 3))\n",
    "# Why do we create a tuple of two tensors ? Because we use LSTMs: remember that they use two sets of weights,\n",
    "# and two hidden states (Hidden state, and Cell state).\n",
    "# If you don't remember, read: https://colah.github.io/posts/2015-08-Understanding-LSTMs/\n",
    "# If we used a classic RNN, we would simply have:\n",
    "# hidden = torch.randn(1, 1, 3)\n",
    "\n",
    "# The naive way of applying a lstm to inputs is to apply it one step at a time, and loop through the sequence\n",
    "for i in inputs:\n",
    "    # After each step, hidden contains the hidden states (remember, it's a tuple of two states).\n",
    "    out, hidden = lstm(i.view(1, 1, -1), hidden)\n",
    "    \n",
    "# Alternatively, we can do the entire sequence all at once.\n",
    "# The first value returned by LSTM is all of the Hidden states throughout the sequence.\n",
    "# The second is just the most recent Hidden state and Cell state (you can compare the values)\n",
    "# The reason for this is that:\n",
    "# \"out\" will give you access to all hidden states in the sequence, for each temporal step\n",
    "# \"hidden\" will allow you to continue the sequence and backpropagate later, with another sequence\n",
    "inputs = torch.cat(inputs).view(len(inputs), 1, -1)\n",
    "hidden = (torch.randn(1, 1, 3), torch.randn(1, 1, 3))  # Re-initialize\n",
    "out, hidden = lstm(inputs, hidden)\n",
    "print(out)\n",
    "print(hidden)"
   ]
  },
  {
   "cell_type": "markdown",
   "metadata": {},
   "source": [
    "### Creating our own LSTM Model\n",
    "\n",
    "We'll implement now a LSTM model, taking the same inputs and also outputing a score for the sentence.\n",
    "\n",
    "<div class='alert alert-block alert-info'>\n",
    "            Code:</div>"
   ]
  },
  {
   "cell_type": "markdown",
   "metadata": {},
   "source": [
    "**Classe LSTMModel complétée**"
   ]
  },
  {
   "cell_type": "code",
   "execution_count": 79,
   "metadata": {},
   "outputs": [],
   "source": [
    "class LSTMModel(nn.Module):\n",
    "    def __init__(self, embedding_dim, vocabulary_size, hidden_dim, num_classes, embeddings=None, fine_tuning=False):\n",
    "        super(LSTMModel, self).__init__()\n",
    "        \n",
    "        # Initialisation de la couche d'embedding\n",
    "        if embeddings is not None:\n",
    "            self.embeddings = nn.Embedding.from_pretrained(embeddings, freeze=not fine_tuning)\n",
    "        else:\n",
    "            self.embeddings = nn.Embedding(num_embeddings=vocabulary_size, embedding_dim=embedding_dim)\n",
    "        \n",
    "        # Définition de la couche LSTM\n",
    "        self.lstm = nn.LSTM(input_size=embedding_dim, hidden_size=hidden_dim, batch_first=True)\n",
    "        \n",
    "        # Définition de la couche linéaire pour la classification finale\n",
    "        self.linear = nn.Linear(hidden_dim, num_classes)\n",
    "        \n",
    "    def forward(self, inputs):\n",
    "        # Extraction des embeddings pour chaque mot dans les séquences\n",
    "        embedded = self.embeddings(inputs)\n",
    "        \n",
    "        # Passage à travers la couche LSTM\n",
    "        # Nous utilisons seulement le dernier état caché pour la classification\n",
    "        _, (hidden, _) = self.lstm(embedded)\n",
    "        \n",
    "        # Passage à travers la couche linéaire\n",
    "        # Notez que hidden contient les états cachés du dernier élément de la séquence pour chaque batch\n",
    "        # hidden est de forme (num_layers * num_directions, batch, hidden_size)\n",
    "        # Pour un LSTM unidirectionnel à une seule couche, la forme est (1, batch, hidden_size)\n",
    "        output = self.linear(hidden[-1])\n",
    "        \n",
    "        return output"
   ]
  },
  {
   "cell_type": "code",
   "execution_count": 80,
   "metadata": {},
   "outputs": [],
   "source": [
    "recurrent_model = LSTMModel(300, len(training_word2idx), 100, max(ng_train_labels)+1)\n",
    "opt_recurrent = optim.Adam(recurrent_model.parameters(), lr=0.01, betas=(0.9, 0.999))"
   ]
  },
  {
   "cell_type": "code",
   "execution_count": 81,
   "metadata": {},
   "outputs": [
    {
     "name": "stdout",
     "output_type": "stream",
     "text": [
      "Beginning training...\n",
      "Epoch 1:\n",
      "Batch 0 : training loss = 1.8207473754882812; training acc = 16.5\n",
      "Batch 20 : training loss = 1.6951757669448853; training acc = 25.5\n",
      "Batch 40 : training loss = 1.6626945734024048; training acc = 31.0\n",
      "Training Accuracy: 26.93224378617637\n",
      "Validation Loss: 1.6783031051078539, Validation Accuracy: 28.209737827715355\n",
      "Epoch 1 : Validation loss = 1.6783031051078539; Validation acc = 28.209737827715355\n",
      "Epoch 2:\n",
      "Batch 0 : training loss = 1.582324504852295; training acc = 42.5\n",
      "Batch 20 : training loss = 1.483360767364502; training acc = 43.5\n"
     ]
    },
    {
     "name": "stderr",
     "output_type": "stream",
     "text": [
      "\n",
      "KeyboardInterrupt\n",
      "\n"
     ]
    }
   ],
   "source": [
    "train_losses = experiment(recurrent_model, opt_recurrent, criterion)"
   ]
  },
  {
   "cell_type": "markdown",
   "metadata": {},
   "source": [
    "<div class='alert alert-block alert-warning'>\n",
    "            Questions:</div>\n",
    "            \n",
    "- What do you see with a simple application of LSTMs (Que voyez-vous avec une simple application des LSTM ?) ? \n",
    "- What do you think may be happening in this case (Selon vous, que peut-il se passer dans ce cas ?) ? "
   ]
  },
  {
   "cell_type": "markdown",
   "metadata": {},
   "source": [
    "**Le premier modèle** montre l'application directe d'un LSTM sur une séquence de données jouet (toy data) sans aucune couche d'embedding ou de classification supplémentaire. Le LSTM est appliqué élément par élément sur la séquence, et puis en une seule fois pour l'ensemble de la séquence. Ce résultat donne deux éléments principaux :\\\n",
    "\n",
    "**out** est un ensemble d'états cachés pour chaque instant dans la séquence, affichant comment les données de séquence se propagent dans le temps à travers le LSTM.\n",
    "\n",
    "**hidden** sont les derniers états cachés (état caché et état de la cellule) après avoir traité toute la séquence. Ceux-ci seraient utilisés pour continuer la séquence si nécessaire.\n",
    "\n",
    "**Le deuxième modèle** cas montre un LSTM plus élaboré, qui fait partie d'un modèle de classification de texte complet. Ce modèle utilise des embeddings (potentiellement pré-entraînés), les passe à travers une couche LSTM et utilise finalement l'état caché final pour une classification avec une couche linéaire. Les logs d'entraînement montrent une de la précision au fil des époques, mais **il semble y avoir un arrêt précoce après la quatrième époque, ce qui suggère que le modèle ne s'améliore plus au-delà de ce point sur l'ensemble de validation.**\n",
    "\n",
    "Que voyez-vous avec une simple application des LSTM ? \n",
    "Dans le premier cas, nous voyons le comportement de base d'un LSTM traitant des données séquentielles. Cela montre le potentiel de l'LSTM à capturer les dépendances temporelles dans les données, mais sans un cadre de tâche spécifique (par exemple, classification ou prédiction de la prochaine valeur), il est difficile d'évaluer l'efficacité de l'apprentissage. ."
   ]
  },
  {
   "cell_type": "markdown",
   "metadata": {},
   "source": [
    "**What do you think may be happening in this case ?**\n",
    "\n",
    "Dans le deuxième modèle, le cadre est bien plus structuré pour une tâche spécifique, en l'occurrence, une forme de classification de texte. Le modèle utilise une combinaison de couches d'embedding, LSTM et une couche linéaire pour effectuer cette tâche. L'arrêt précoce après la quatrième époque suggère plusieurs points :\n",
    "\n",
    "**Surapprentissage (Overfitting) :** Le modèle peut commencer à trop bien apprendre les détails et le bruit de l'ensemble d'entraînement au détriment de sa capacité à généraliser à de nouvelles données. Cela peut être pourquoi l’amélioration continue sur l’ensemble de validation.\n",
    "\n",
    "**Capacité du Modèle :** Le modèle pourrait atteindre sa capacité maximale d'apprentissage avec les paramètres actuels et la structure du réseau. Cela signifie que sans ajustements dans l'architecture du modèle ou dans les hyperparamètres, il peut ne pas être possible d'améliorer davantage les performances.\n",
    "\n",
    "**Qualité des Données et Prétraitement :** Les données d'entraînement et leur prétraitement jouent un rôle crucial dans l'apprentissage des modèles de deep learning. Si les données ne sont pas suffisamment variées, ou si le prétraitement ne les rend pas adéquats pour l'apprentissage, le modèle pourrait ne pas être capable d'apprendre efficacement.\n",
    "\n",
    "**Nécessité d'Ajustement des Hyperparamètres :** L'optimisation des hyperparamètres, comme le taux d'apprentissage, la taille des lots (batch size), le nombre d'unités LSTM, ou même l'utilisation de techniques de régularisation comme le dropout, peut avoir un impact significatif sur la performance du modèle. Un ajustement fin de ces paramètres pourrait aider à améliorer les performances sur l'ensemble de validation et à réduire le surapprentissage.\n",
    "\n",
    "En conclusion, alors que le premier modèle illustre le fonctionnement de base d'un LSTM sur des données séquentielles sans contexte de tâche spécifique, le deuxième modèle met en lumière les défis liés à l'application de ces modèles à des tâches spécifiques comme la classification de texte. L'amélioration des performances dans de telles tâches nécessite une attention particulière portée à l'architecture du modèle, à l'ajustement des hyperparamètres et à la qualité des données d'entraînement."
   ]
  },
  {
   "cell_type": "markdown",
   "metadata": {},
   "source": [
    "############################################# **Merci de m'avoir lu** #################################################"
   ]
  },
  {
   "cell_type": "code",
   "execution_count": null,
   "metadata": {},
   "outputs": [],
   "source": []
  }
 ],
 "metadata": {
  "kernelspec": {
   "display_name": "Python 3 (ipykernel)",
   "language": "python",
   "name": "python3"
  },
  "language_info": {
   "codemirror_mode": {
    "name": "ipython",
    "version": 3
   },
   "file_extension": ".py",
   "mimetype": "text/x-python",
   "name": "python",
   "nbconvert_exporter": "python",
   "pygments_lexer": "ipython3",
   "version": "3.11.4"
  }
 },
 "nbformat": 4,
 "nbformat_minor": 4
}
